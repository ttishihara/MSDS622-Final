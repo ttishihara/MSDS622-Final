{
 "cells": [
  {
   "cell_type": "markdown",
   "metadata": {},
   "source": [
    "# MSDS622 Data Visualization Final Project\n",
    "### Tomohiko Ishihara\n",
    "\n",
    "Data Links: \n",
    "* US wildfire data: https://www.kaggle.com/tracy2533/us-wildfire\n",
    "* US drought data: https://www.kaggle.com/us-drought-monitor/united-states-droughts-by-county"
   ]
  },
  {
   "cell_type": "code",
   "execution_count": 1,
   "metadata": {
    "ExecuteTime": {
     "end_time": "2019-05-16T22:45:09.608583Z",
     "start_time": "2019-05-16T22:45:09.178428Z"
    }
   },
   "outputs": [],
   "source": [
    "import numpy as np\n",
    "import pandas as pd\n",
    "pd.set_option('display.max_columns', None)\n",
    "\n",
    "import seaborn as sns\n",
    "import matplotlib.pyplot as plt"
   ]
  },
  {
   "cell_type": "markdown",
   "metadata": {},
   "source": [
    "# Data loading and preprocessing"
   ]
  },
  {
   "cell_type": "code",
   "execution_count": 2,
   "metadata": {
    "ExecuteTime": {
     "end_time": "2019-05-16T22:45:30.208477Z",
     "start_time": "2019-05-16T22:45:09.610282Z"
    }
   },
   "outputs": [
    {
     "name": "stderr",
     "output_type": "stream",
     "text": [
      "/home/tomo/anaconda3/envs/ml/lib/python3.7/site-packages/IPython/core/interactiveshell.py:3018: DtypeWarning: Columns (9,11,12,13,14,15,16,17,18,19,36,38) have mixed types. Specify dtype option on import or set low_memory=False.\n",
      "  interactivity=interactivity, compiler=compiler, result=result)\n"
     ]
    },
    {
     "data": {
      "text/html": [
       "<div>\n",
       "<style scoped>\n",
       "    .dataframe tbody tr th:only-of-type {\n",
       "        vertical-align: middle;\n",
       "    }\n",
       "\n",
       "    .dataframe tbody tr th {\n",
       "        vertical-align: top;\n",
       "    }\n",
       "\n",
       "    .dataframe thead th {\n",
       "        text-align: right;\n",
       "    }\n",
       "</style>\n",
       "<table border=\"1\" class=\"dataframe\">\n",
       "  <thead>\n",
       "    <tr style=\"text-align: right;\">\n",
       "      <th></th>\n",
       "      <th>Unnamed: 0</th>\n",
       "      <th>OBJECTID</th>\n",
       "      <th>FOD_ID</th>\n",
       "      <th>FPA_ID</th>\n",
       "      <th>SOURCE_SYSTEM_TYPE</th>\n",
       "      <th>SOURCE_SYSTEM</th>\n",
       "      <th>NWCG_REPORTING_AGENCY</th>\n",
       "      <th>NWCG_REPORTING_UNIT_ID</th>\n",
       "      <th>NWCG_REPORTING_UNIT_NAME</th>\n",
       "      <th>SOURCE_REPORTING_UNIT</th>\n",
       "      <th>SOURCE_REPORTING_UNIT_NAME</th>\n",
       "      <th>LOCAL_FIRE_REPORT_ID</th>\n",
       "      <th>LOCAL_INCIDENT_ID</th>\n",
       "      <th>FIRE_CODE</th>\n",
       "      <th>FIRE_NAME</th>\n",
       "      <th>ICS_209_INCIDENT_NUMBER</th>\n",
       "      <th>ICS_209_NAME</th>\n",
       "      <th>MTBS_ID</th>\n",
       "      <th>MTBS_FIRE_NAME</th>\n",
       "      <th>COMPLEX_NAME</th>\n",
       "      <th>FIRE_YEAR</th>\n",
       "      <th>DISCOVERY_DATE</th>\n",
       "      <th>DISCOVERY_DOY</th>\n",
       "      <th>DISCOVERY_TIME</th>\n",
       "      <th>STAT_CAUSE_CODE</th>\n",
       "      <th>STAT_CAUSE_DESCR</th>\n",
       "      <th>CONT_DATE</th>\n",
       "      <th>CONT_DOY</th>\n",
       "      <th>CONT_TIME</th>\n",
       "      <th>FIRE_SIZE</th>\n",
       "      <th>FIRE_SIZE_CLASS</th>\n",
       "      <th>LATITUDE</th>\n",
       "      <th>LONGITUDE</th>\n",
       "      <th>OWNER_CODE</th>\n",
       "      <th>OWNER_DESCR</th>\n",
       "      <th>STATE</th>\n",
       "      <th>COUNTY</th>\n",
       "      <th>FIPS_CODE</th>\n",
       "      <th>FIPS_NAME</th>\n",
       "      <th>Shape</th>\n",
       "      <th>REGION</th>\n",
       "      <th>DISCOVERY_DOY_td</th>\n",
       "      <th>month</th>\n",
       "      <th>year</th>\n",
       "    </tr>\n",
       "  </thead>\n",
       "  <tbody>\n",
       "    <tr>\n",
       "      <th>0</th>\n",
       "      <td>0</td>\n",
       "      <td>1</td>\n",
       "      <td>1</td>\n",
       "      <td>FS-1418826</td>\n",
       "      <td>FED</td>\n",
       "      <td>FS-FIRESTAT</td>\n",
       "      <td>FS</td>\n",
       "      <td>USCAPNF</td>\n",
       "      <td>Plumas National Forest</td>\n",
       "      <td>511</td>\n",
       "      <td>Plumas National Forest</td>\n",
       "      <td>1</td>\n",
       "      <td>PNF-47</td>\n",
       "      <td>BJ8K</td>\n",
       "      <td>FOUNTAIN</td>\n",
       "      <td>NaN</td>\n",
       "      <td>NaN</td>\n",
       "      <td>NaN</td>\n",
       "      <td>NaN</td>\n",
       "      <td>NaN</td>\n",
       "      <td>2005</td>\n",
       "      <td>2005-02-03</td>\n",
       "      <td>33</td>\n",
       "      <td>1300.0</td>\n",
       "      <td>9.0</td>\n",
       "      <td>Miscellaneous</td>\n",
       "      <td>2453403.5</td>\n",
       "      <td>33.0</td>\n",
       "      <td>1730.0</td>\n",
       "      <td>0.10</td>\n",
       "      <td>A</td>\n",
       "      <td>40.036944</td>\n",
       "      <td>-121.005833</td>\n",
       "      <td>5.0</td>\n",
       "      <td>USFS</td>\n",
       "      <td>CA</td>\n",
       "      <td>63</td>\n",
       "      <td>63.0</td>\n",
       "      <td>Plumas</td>\n",
       "      <td>b'\\x00\\x01\\xad\\x10\\x00\\x00\\xe8d\\xc2\\x92_@^\\xc0...</td>\n",
       "      <td>Pacific</td>\n",
       "      <td>33 days</td>\n",
       "      <td>2</td>\n",
       "      <td>2005</td>\n",
       "    </tr>\n",
       "    <tr>\n",
       "      <th>1</th>\n",
       "      <td>1</td>\n",
       "      <td>2</td>\n",
       "      <td>2</td>\n",
       "      <td>FS-1418827</td>\n",
       "      <td>FED</td>\n",
       "      <td>FS-FIRESTAT</td>\n",
       "      <td>FS</td>\n",
       "      <td>USCAENF</td>\n",
       "      <td>Eldorado National Forest</td>\n",
       "      <td>503</td>\n",
       "      <td>Eldorado National Forest</td>\n",
       "      <td>13</td>\n",
       "      <td>13</td>\n",
       "      <td>AAC0</td>\n",
       "      <td>PIGEON</td>\n",
       "      <td>NaN</td>\n",
       "      <td>NaN</td>\n",
       "      <td>NaN</td>\n",
       "      <td>NaN</td>\n",
       "      <td>NaN</td>\n",
       "      <td>2004</td>\n",
       "      <td>2004-05-13</td>\n",
       "      <td>133</td>\n",
       "      <td>845.0</td>\n",
       "      <td>1.0</td>\n",
       "      <td>Lightning</td>\n",
       "      <td>2453137.5</td>\n",
       "      <td>133.0</td>\n",
       "      <td>1530.0</td>\n",
       "      <td>0.25</td>\n",
       "      <td>A</td>\n",
       "      <td>38.933056</td>\n",
       "      <td>-120.404444</td>\n",
       "      <td>5.0</td>\n",
       "      <td>USFS</td>\n",
       "      <td>CA</td>\n",
       "      <td>61</td>\n",
       "      <td>61.0</td>\n",
       "      <td>Placer</td>\n",
       "      <td>b'\\x00\\x01\\xad\\x10\\x00\\x00T\\xb6\\xeej\\xe2\\x19^\\...</td>\n",
       "      <td>Pacific</td>\n",
       "      <td>133 days</td>\n",
       "      <td>5</td>\n",
       "      <td>2004</td>\n",
       "    </tr>\n",
       "    <tr>\n",
       "      <th>2</th>\n",
       "      <td>2</td>\n",
       "      <td>3</td>\n",
       "      <td>3</td>\n",
       "      <td>FS-1418835</td>\n",
       "      <td>FED</td>\n",
       "      <td>FS-FIRESTAT</td>\n",
       "      <td>FS</td>\n",
       "      <td>USCAENF</td>\n",
       "      <td>Eldorado National Forest</td>\n",
       "      <td>503</td>\n",
       "      <td>Eldorado National Forest</td>\n",
       "      <td>27</td>\n",
       "      <td>021</td>\n",
       "      <td>A32W</td>\n",
       "      <td>SLACK</td>\n",
       "      <td>NaN</td>\n",
       "      <td>NaN</td>\n",
       "      <td>NaN</td>\n",
       "      <td>NaN</td>\n",
       "      <td>NaN</td>\n",
       "      <td>2004</td>\n",
       "      <td>2004-06-01</td>\n",
       "      <td>152</td>\n",
       "      <td>1921.0</td>\n",
       "      <td>5.0</td>\n",
       "      <td>Debris Burning</td>\n",
       "      <td>2453156.5</td>\n",
       "      <td>152.0</td>\n",
       "      <td>2024.0</td>\n",
       "      <td>0.10</td>\n",
       "      <td>A</td>\n",
       "      <td>38.984167</td>\n",
       "      <td>-120.735556</td>\n",
       "      <td>13.0</td>\n",
       "      <td>STATE OR PRIVATE</td>\n",
       "      <td>CA</td>\n",
       "      <td>17</td>\n",
       "      <td>17.0</td>\n",
       "      <td>El Dorado</td>\n",
       "      <td>b'\\x00\\x01\\xad\\x10\\x00\\x00\\xd0\\xa5\\xa0W\\x13/^\\...</td>\n",
       "      <td>Pacific</td>\n",
       "      <td>152 days</td>\n",
       "      <td>6</td>\n",
       "      <td>2004</td>\n",
       "    </tr>\n",
       "    <tr>\n",
       "      <th>3</th>\n",
       "      <td>3</td>\n",
       "      <td>4</td>\n",
       "      <td>4</td>\n",
       "      <td>FS-1418845</td>\n",
       "      <td>FED</td>\n",
       "      <td>FS-FIRESTAT</td>\n",
       "      <td>FS</td>\n",
       "      <td>USCAENF</td>\n",
       "      <td>Eldorado National Forest</td>\n",
       "      <td>503</td>\n",
       "      <td>Eldorado National Forest</td>\n",
       "      <td>43</td>\n",
       "      <td>6</td>\n",
       "      <td>NaN</td>\n",
       "      <td>DEER</td>\n",
       "      <td>NaN</td>\n",
       "      <td>NaN</td>\n",
       "      <td>NaN</td>\n",
       "      <td>NaN</td>\n",
       "      <td>NaN</td>\n",
       "      <td>2004</td>\n",
       "      <td>2004-06-29</td>\n",
       "      <td>180</td>\n",
       "      <td>1600.0</td>\n",
       "      <td>1.0</td>\n",
       "      <td>Lightning</td>\n",
       "      <td>2453189.5</td>\n",
       "      <td>185.0</td>\n",
       "      <td>1400.0</td>\n",
       "      <td>0.10</td>\n",
       "      <td>A</td>\n",
       "      <td>38.559167</td>\n",
       "      <td>-119.913333</td>\n",
       "      <td>5.0</td>\n",
       "      <td>USFS</td>\n",
       "      <td>CA</td>\n",
       "      <td>3</td>\n",
       "      <td>3.0</td>\n",
       "      <td>Alpine</td>\n",
       "      <td>b'\\x00\\x01\\xad\\x10\\x00\\x00\\x94\\xac\\xa3\\rt\\xfa]...</td>\n",
       "      <td>Pacific</td>\n",
       "      <td>180 days</td>\n",
       "      <td>6</td>\n",
       "      <td>2004</td>\n",
       "    </tr>\n",
       "    <tr>\n",
       "      <th>4</th>\n",
       "      <td>4</td>\n",
       "      <td>5</td>\n",
       "      <td>5</td>\n",
       "      <td>FS-1418847</td>\n",
       "      <td>FED</td>\n",
       "      <td>FS-FIRESTAT</td>\n",
       "      <td>FS</td>\n",
       "      <td>USCAENF</td>\n",
       "      <td>Eldorado National Forest</td>\n",
       "      <td>503</td>\n",
       "      <td>Eldorado National Forest</td>\n",
       "      <td>44</td>\n",
       "      <td>7</td>\n",
       "      <td>NaN</td>\n",
       "      <td>STEVENOT</td>\n",
       "      <td>NaN</td>\n",
       "      <td>NaN</td>\n",
       "      <td>NaN</td>\n",
       "      <td>NaN</td>\n",
       "      <td>NaN</td>\n",
       "      <td>2004</td>\n",
       "      <td>2004-06-29</td>\n",
       "      <td>180</td>\n",
       "      <td>1600.0</td>\n",
       "      <td>1.0</td>\n",
       "      <td>Lightning</td>\n",
       "      <td>2453189.5</td>\n",
       "      <td>185.0</td>\n",
       "      <td>1200.0</td>\n",
       "      <td>0.10</td>\n",
       "      <td>A</td>\n",
       "      <td>38.559167</td>\n",
       "      <td>-119.933056</td>\n",
       "      <td>5.0</td>\n",
       "      <td>USFS</td>\n",
       "      <td>CA</td>\n",
       "      <td>3</td>\n",
       "      <td>3.0</td>\n",
       "      <td>Alpine</td>\n",
       "      <td>b'\\x00\\x01\\xad\\x10\\x00\\x00@\\xe3\\xaa.\\xb7\\xfb]\\...</td>\n",
       "      <td>Pacific</td>\n",
       "      <td>180 days</td>\n",
       "      <td>6</td>\n",
       "      <td>2004</td>\n",
       "    </tr>\n",
       "  </tbody>\n",
       "</table>\n",
       "</div>"
      ],
      "text/plain": [
       "   Unnamed: 0  OBJECTID  FOD_ID      FPA_ID SOURCE_SYSTEM_TYPE SOURCE_SYSTEM  \\\n",
       "0           0         1       1  FS-1418826                FED   FS-FIRESTAT   \n",
       "1           1         2       2  FS-1418827                FED   FS-FIRESTAT   \n",
       "2           2         3       3  FS-1418835                FED   FS-FIRESTAT   \n",
       "3           3         4       4  FS-1418845                FED   FS-FIRESTAT   \n",
       "4           4         5       5  FS-1418847                FED   FS-FIRESTAT   \n",
       "\n",
       "  NWCG_REPORTING_AGENCY NWCG_REPORTING_UNIT_ID  NWCG_REPORTING_UNIT_NAME  \\\n",
       "0                    FS                USCAPNF    Plumas National Forest   \n",
       "1                    FS                USCAENF  Eldorado National Forest   \n",
       "2                    FS                USCAENF  Eldorado National Forest   \n",
       "3                    FS                USCAENF  Eldorado National Forest   \n",
       "4                    FS                USCAENF  Eldorado National Forest   \n",
       "\n",
       "  SOURCE_REPORTING_UNIT SOURCE_REPORTING_UNIT_NAME LOCAL_FIRE_REPORT_ID  \\\n",
       "0                   511     Plumas National Forest                    1   \n",
       "1                   503   Eldorado National Forest                   13   \n",
       "2                   503   Eldorado National Forest                   27   \n",
       "3                   503   Eldorado National Forest                   43   \n",
       "4                   503   Eldorado National Forest                   44   \n",
       "\n",
       "  LOCAL_INCIDENT_ID FIRE_CODE FIRE_NAME ICS_209_INCIDENT_NUMBER ICS_209_NAME  \\\n",
       "0            PNF-47      BJ8K  FOUNTAIN                     NaN          NaN   \n",
       "1                13      AAC0    PIGEON                     NaN          NaN   \n",
       "2               021      A32W     SLACK                     NaN          NaN   \n",
       "3                 6       NaN      DEER                     NaN          NaN   \n",
       "4                 7       NaN  STEVENOT                     NaN          NaN   \n",
       "\n",
       "  MTBS_ID MTBS_FIRE_NAME COMPLEX_NAME  FIRE_YEAR DISCOVERY_DATE  \\\n",
       "0     NaN            NaN          NaN       2005     2005-02-03   \n",
       "1     NaN            NaN          NaN       2004     2004-05-13   \n",
       "2     NaN            NaN          NaN       2004     2004-06-01   \n",
       "3     NaN            NaN          NaN       2004     2004-06-29   \n",
       "4     NaN            NaN          NaN       2004     2004-06-29   \n",
       "\n",
       "   DISCOVERY_DOY  DISCOVERY_TIME  STAT_CAUSE_CODE STAT_CAUSE_DESCR  CONT_DATE  \\\n",
       "0             33          1300.0              9.0    Miscellaneous  2453403.5   \n",
       "1            133           845.0              1.0        Lightning  2453137.5   \n",
       "2            152          1921.0              5.0   Debris Burning  2453156.5   \n",
       "3            180          1600.0              1.0        Lightning  2453189.5   \n",
       "4            180          1600.0              1.0        Lightning  2453189.5   \n",
       "\n",
       "   CONT_DOY  CONT_TIME  FIRE_SIZE FIRE_SIZE_CLASS   LATITUDE   LONGITUDE  \\\n",
       "0      33.0     1730.0       0.10               A  40.036944 -121.005833   \n",
       "1     133.0     1530.0       0.25               A  38.933056 -120.404444   \n",
       "2     152.0     2024.0       0.10               A  38.984167 -120.735556   \n",
       "3     185.0     1400.0       0.10               A  38.559167 -119.913333   \n",
       "4     185.0     1200.0       0.10               A  38.559167 -119.933056   \n",
       "\n",
       "   OWNER_CODE       OWNER_DESCR STATE COUNTY  FIPS_CODE  FIPS_NAME  \\\n",
       "0         5.0              USFS    CA     63       63.0     Plumas   \n",
       "1         5.0              USFS    CA     61       61.0     Placer   \n",
       "2        13.0  STATE OR PRIVATE    CA     17       17.0  El Dorado   \n",
       "3         5.0              USFS    CA      3        3.0     Alpine   \n",
       "4         5.0              USFS    CA      3        3.0     Alpine   \n",
       "\n",
       "                                               Shape   REGION  \\\n",
       "0  b'\\x00\\x01\\xad\\x10\\x00\\x00\\xe8d\\xc2\\x92_@^\\xc0...  Pacific   \n",
       "1  b'\\x00\\x01\\xad\\x10\\x00\\x00T\\xb6\\xeej\\xe2\\x19^\\...  Pacific   \n",
       "2  b'\\x00\\x01\\xad\\x10\\x00\\x00\\xd0\\xa5\\xa0W\\x13/^\\...  Pacific   \n",
       "3  b'\\x00\\x01\\xad\\x10\\x00\\x00\\x94\\xac\\xa3\\rt\\xfa]...  Pacific   \n",
       "4  b'\\x00\\x01\\xad\\x10\\x00\\x00@\\xe3\\xaa.\\xb7\\xfb]\\...  Pacific   \n",
       "\n",
       "  DISCOVERY_DOY_td  month  year  \n",
       "0          33 days      2  2005  \n",
       "1         133 days      5  2004  \n",
       "2         152 days      6  2004  \n",
       "3         180 days      6  2004  \n",
       "4         180 days      6  2004  "
      ]
     },
     "execution_count": 2,
     "metadata": {},
     "output_type": "execute_result"
    }
   ],
   "source": [
    "# Wildfire data\n",
    "\n",
    "fires = pd.read_csv(\"Fires.csv\", sep='\\t')\n",
    "\n",
    "# Mapping states to census regions.\n",
    "pacific = 'CA OR WA AK HI'.split()\n",
    "west = 'MT ID WY NV UT CO AZ NM'.split()\n",
    "midwest = 'ND MN SD NE IA KS MO WI IL IN MI OH'.split()\n",
    "south = 'OK TX AR LA DE MD DC VA WV NC SC GA FL KY TN AL MS'.split()\n",
    "northeast = 'ME NH VT MA CT RI NJ NY PA'.split()\n",
    "\n",
    "region_dict = {}\n",
    "for state in pacific:\n",
    "    region_dict[state] = 'Pacific'\n",
    "for state in west:\n",
    "    region_dict[state] = 'West'\n",
    "for state in midwest:\n",
    "    region_dict[state] = 'Midwest'\n",
    "for state in south:\n",
    "    region_dict[state] = 'South'\n",
    "for state in northeast:\n",
    "    region_dict[state] = 'Northeast'\n",
    "\n",
    "fires['REGION'] = fires['STATE'].map(region_dict)\n",
    "\n",
    "fires['DISCOVERY_DOY_td'] = pd.to_timedelta(fires['DISCOVERY_DOY'], unit='D')\n",
    "fires['DISCOVERY_DATE'] = pd.to_datetime(fires['FIRE_YEAR'], format='%Y') + fires['DISCOVERY_DOY_td']\n",
    "fires['month'] = fires['DISCOVERY_DATE'].map(lambda x: x.month)\n",
    "fires['year'] = fires['FIRE_YEAR']\n",
    "\n",
    "fires.head()"
   ]
  },
  {
   "cell_type": "code",
   "execution_count": 3,
   "metadata": {
    "ExecuteTime": {
     "end_time": "2019-05-16T22:45:49.392738Z",
     "start_time": "2019-05-16T22:45:30.210235Z"
    }
   },
   "outputs": [
    {
     "data": {
      "text/html": [
       "<div>\n",
       "<style scoped>\n",
       "    .dataframe tbody tr th:only-of-type {\n",
       "        vertical-align: middle;\n",
       "    }\n",
       "\n",
       "    .dataframe tbody tr th {\n",
       "        vertical-align: top;\n",
       "    }\n",
       "\n",
       "    .dataframe thead th {\n",
       "        text-align: right;\n",
       "    }\n",
       "</style>\n",
       "<table border=\"1\" class=\"dataframe\">\n",
       "  <thead>\n",
       "    <tr style=\"text-align: right;\">\n",
       "      <th></th>\n",
       "      <th>releaseDate</th>\n",
       "      <th>FIPS</th>\n",
       "      <th>county</th>\n",
       "      <th>state</th>\n",
       "      <th>NONE</th>\n",
       "      <th>D0</th>\n",
       "      <th>D1</th>\n",
       "      <th>D2</th>\n",
       "      <th>D3</th>\n",
       "      <th>D4</th>\n",
       "      <th>validStart</th>\n",
       "      <th>validEnd</th>\n",
       "      <th>domStatisticFormatID</th>\n",
       "      <th>month</th>\n",
       "      <th>year</th>\n",
       "      <th>REGION</th>\n",
       "    </tr>\n",
       "  </thead>\n",
       "  <tbody>\n",
       "    <tr>\n",
       "      <th>0</th>\n",
       "      <td>2000-11-07</td>\n",
       "      <td>2013</td>\n",
       "      <td>Aleutians East Borough</td>\n",
       "      <td>AK</td>\n",
       "      <td>100.0</td>\n",
       "      <td>0.0</td>\n",
       "      <td>0.0</td>\n",
       "      <td>0.0</td>\n",
       "      <td>0.0</td>\n",
       "      <td>0.0</td>\n",
       "      <td>2000-11-07</td>\n",
       "      <td>2000-11-13</td>\n",
       "      <td>1</td>\n",
       "      <td>11</td>\n",
       "      <td>2000</td>\n",
       "      <td>Pacific</td>\n",
       "    </tr>\n",
       "    <tr>\n",
       "      <th>1</th>\n",
       "      <td>2000-10-31</td>\n",
       "      <td>2013</td>\n",
       "      <td>Aleutians East Borough</td>\n",
       "      <td>AK</td>\n",
       "      <td>100.0</td>\n",
       "      <td>0.0</td>\n",
       "      <td>0.0</td>\n",
       "      <td>0.0</td>\n",
       "      <td>0.0</td>\n",
       "      <td>0.0</td>\n",
       "      <td>2000-10-31</td>\n",
       "      <td>2000-11-06</td>\n",
       "      <td>1</td>\n",
       "      <td>10</td>\n",
       "      <td>2000</td>\n",
       "      <td>Pacific</td>\n",
       "    </tr>\n",
       "    <tr>\n",
       "      <th>2</th>\n",
       "      <td>2000-10-24</td>\n",
       "      <td>2013</td>\n",
       "      <td>Aleutians East Borough</td>\n",
       "      <td>AK</td>\n",
       "      <td>100.0</td>\n",
       "      <td>0.0</td>\n",
       "      <td>0.0</td>\n",
       "      <td>0.0</td>\n",
       "      <td>0.0</td>\n",
       "      <td>0.0</td>\n",
       "      <td>2000-10-24</td>\n",
       "      <td>2000-10-30</td>\n",
       "      <td>1</td>\n",
       "      <td>10</td>\n",
       "      <td>2000</td>\n",
       "      <td>Pacific</td>\n",
       "    </tr>\n",
       "    <tr>\n",
       "      <th>3</th>\n",
       "      <td>2000-10-17</td>\n",
       "      <td>2013</td>\n",
       "      <td>Aleutians East Borough</td>\n",
       "      <td>AK</td>\n",
       "      <td>100.0</td>\n",
       "      <td>0.0</td>\n",
       "      <td>0.0</td>\n",
       "      <td>0.0</td>\n",
       "      <td>0.0</td>\n",
       "      <td>0.0</td>\n",
       "      <td>2000-10-17</td>\n",
       "      <td>2000-10-23</td>\n",
       "      <td>1</td>\n",
       "      <td>10</td>\n",
       "      <td>2000</td>\n",
       "      <td>Pacific</td>\n",
       "    </tr>\n",
       "    <tr>\n",
       "      <th>4</th>\n",
       "      <td>2000-10-10</td>\n",
       "      <td>2013</td>\n",
       "      <td>Aleutians East Borough</td>\n",
       "      <td>AK</td>\n",
       "      <td>100.0</td>\n",
       "      <td>0.0</td>\n",
       "      <td>0.0</td>\n",
       "      <td>0.0</td>\n",
       "      <td>0.0</td>\n",
       "      <td>0.0</td>\n",
       "      <td>2000-10-10</td>\n",
       "      <td>2000-10-16</td>\n",
       "      <td>1</td>\n",
       "      <td>10</td>\n",
       "      <td>2000</td>\n",
       "      <td>Pacific</td>\n",
       "    </tr>\n",
       "  </tbody>\n",
       "</table>\n",
       "</div>"
      ],
      "text/plain": [
       "  releaseDate  FIPS                  county state   NONE   D0   D1   D2   D3  \\\n",
       "0  2000-11-07  2013  Aleutians East Borough    AK  100.0  0.0  0.0  0.0  0.0   \n",
       "1  2000-10-31  2013  Aleutians East Borough    AK  100.0  0.0  0.0  0.0  0.0   \n",
       "2  2000-10-24  2013  Aleutians East Borough    AK  100.0  0.0  0.0  0.0  0.0   \n",
       "3  2000-10-17  2013  Aleutians East Borough    AK  100.0  0.0  0.0  0.0  0.0   \n",
       "4  2000-10-10  2013  Aleutians East Borough    AK  100.0  0.0  0.0  0.0  0.0   \n",
       "\n",
       "    D4  validStart    validEnd  domStatisticFormatID  month  year   REGION  \n",
       "0  0.0  2000-11-07  2000-11-13                     1     11  2000  Pacific  \n",
       "1  0.0  2000-10-31  2000-11-06                     1     10  2000  Pacific  \n",
       "2  0.0  2000-10-24  2000-10-30                     1     10  2000  Pacific  \n",
       "3  0.0  2000-10-17  2000-10-23                     1     10  2000  Pacific  \n",
       "4  0.0  2000-10-10  2000-10-16                     1     10  2000  Pacific  "
      ]
     },
     "execution_count": 3,
     "metadata": {},
     "output_type": "execute_result"
    }
   ],
   "source": [
    "# Droughts data\n",
    "\n",
    "droughts = pd.read_csv(\"us-droughts.csv\")\n",
    "\n",
    "droughts['releaseDate'] = pd.to_datetime(droughts['releaseDate'])\n",
    "droughts['month'] = droughts['releaseDate'].map(lambda x: x.month)\n",
    "droughts['year'] = droughts['releaseDate'].map(lambda x: x.year)\n",
    "\n",
    "# Mapping states to census regions.\n",
    "droughts['REGION'] = droughts['state'].map(region_dict)\n",
    "\n",
    "droughts.head()"
   ]
  },
  {
   "cell_type": "code",
   "execution_count": 4,
   "metadata": {
    "ExecuteTime": {
     "end_time": "2019-05-16T22:45:49.401974Z",
     "start_time": "2019-05-16T22:45:49.394637Z"
    }
   },
   "outputs": [],
   "source": [
    "# Mapping regions to colors (to keep them consistent across different plots)\n",
    "\n",
    "all_regions = ['Midwest', 'Northeast', 'Pacific', 'South', 'West']\n",
    "colors = ['red', 'blue', 'green', 'purple', 'orange']\n",
    "region_colors_dict = dict(zip(all_regions, colors))"
   ]
  },
  {
   "cell_type": "markdown",
   "metadata": {},
   "source": [
    "# 1.) Histogram of Reported Fires by Day of Year"
   ]
  },
  {
   "cell_type": "code",
   "execution_count": 5,
   "metadata": {
    "ExecuteTime": {
     "end_time": "2019-05-16T22:45:56.659638Z",
     "start_time": "2019-05-16T22:45:49.411984Z"
    },
    "scrolled": true
   },
   "outputs": [
    {
     "name": "stderr",
     "output_type": "stream",
     "text": [
      "/home/tomo/anaconda3/envs/ml/lib/python3.7/site-packages/scipy/stats/stats.py:1713: FutureWarning: Using a non-tuple sequence for multidimensional indexing is deprecated; use `arr[tuple(seq)]` instead of `arr[seq]`. In the future this will be interpreted as an array index, `arr[np.array(seq)]`, which will result either in an error or a different result.\n",
      "  return np.add.reduce(sorted[indexer] * weights, axis=axis) / sumval\n"
     ]
    },
    {
     "data": {
      "image/png": "[encoded data removed]",
      "text/plain": [
       "<Figure size 792x576 with 1 Axes>"
      ]
     },
     "metadata": {
      "needs_background": "light"
     },
     "output_type": "display_data"
    }
   ],
   "source": [
    "fig, ax = plt.subplots(figsize=(11, 8))\n",
    "\n",
    "for color, region in zip(colors, all_regions):\n",
    "    sns.distplot(fires[fires['REGION'] == region]['DISCOVERY_DOY'], ax=ax, color=color, label=region)\n",
    "ax.set_xlim([0, 366])\n",
    "ax.set_xlabel(\"Day of Year\")\n",
    "ax.set_ylabel(\"Normalized Count\")\n",
    "ax.set_title(\"Histogram of Reported Fires by Day of the Year in the US\")\n",
    "\n",
    "plt.legend()\n",
    "plt.show()"
   ]
  },
  {
   "cell_type": "markdown",
   "metadata": {},
   "source": [
    "# 2.) Streamgraph of number of reported fires by year per census region."
   ]
  },
  {
   "cell_type": "code",
   "execution_count": 6,
   "metadata": {
    "ExecuteTime": {
     "end_time": "2019-05-16T22:46:00.026060Z",
     "start_time": "2019-05-16T22:45:56.661055Z"
    }
   },
   "outputs": [
    {
     "data": {
      "application/javascript": [
       "var spec = {\"config\": {\"view\": {\"width\": 400, \"height\": 300}, \"mark\": {\"tooltip\": null}}, \"data\": {\"url\": \"altair-data-c9c4f00e82e9d60875e79448b6817627.csv\", \"format\": {\"type\": \"csv\"}}, \"mark\": \"area\", \"encoding\": {\"color\": {\"type\": \"nominal\", \"field\": \"REGION\", \"scale\": {\"scheme\": \"set1\"}}, \"x\": {\"type\": \"temporal\", \"axis\": {\"domain\": false, \"format\": \"%Y\", \"tickSize\": 0, \"title\": \"Year\"}, \"field\": \"FIRE_YEAR\"}, \"y\": {\"type\": \"quantitative\", \"aggregate\": \"count\", \"axis\": {\"title\": \"Number of Fires\"}, \"stack\": \"center\"}}, \"$schema\": \"https://vega.github.io/schema/vega-lite/v3.2.1.json\"};\n",
       "var opt = {};\n",
       "var type = \"vega-lite\";\n",
       "var id = \"f8d857ba-413c-4fd4-9796-b395276b8c59\";\n",
       "\n",
       "var output_area = this;\n",
       "\n",
       "require([\"nbextensions/jupyter-vega/index\"], function(vega) {\n",
       "  var target = document.createElement(\"div\");\n",
       "  target.id = id;\n",
       "  target.className = \"vega-embed\";\n",
       "\n",
       "  var style = document.createElement(\"style\");\n",
       "  style.textContent = [\n",
       "    \".vega-embed .error p {\",\n",
       "    \"  color: firebrick;\",\n",
       "    \"  font-size: 14px;\",\n",
       "    \"}\",\n",
       "  ].join(\"\\\\n\");\n",
       "\n",
       "  // element is a jQuery wrapped DOM element inside the output area\n",
       "  // see http://ipython.readthedocs.io/en/stable/api/generated/\\\n",
       "  // IPython.display.html#IPython.display.Javascript.__init__\n",
       "  element[0].appendChild(target);\n",
       "  element[0].appendChild(style);\n",
       "\n",
       "  vega.render(\"#\" + id, spec, type, opt, output_area);\n",
       "}, function (err) {\n",
       "  if (err.requireType !== \"scripterror\") {\n",
       "    throw(err);\n",
       "  }\n",
       "});\n"
      ],
      "text/plain": [
       "<vega.vegalite.VegaLite at 0x7fb96648f400>"
      ]
     },
     "metadata": {
      "jupyter-vega": "#f8d857ba-413c-4fd4-9796-b395276b8c59"
     },
     "output_type": "display_data"
    },
    {
     "data": {
      "text/plain": []
     },
     "execution_count": 6,
     "metadata": {},
     "output_type": "execute_result"
    },
    {
     "data": {
      "image/png": "[encoded data removed]"
     },
     "metadata": {
      "jupyter-vega": "#f8d857ba-413c-4fd4-9796-b395276b8c59"
     },
     "output_type": "display_data"
    }
   ],
   "source": [
    "import altair as alt\n",
    "alt.data_transformers.enable('csv')\n",
    "alt.renderers.enable('notebook')\n",
    "\n",
    "unique_fires = fires[['FIRE_YEAR','FIRE_NAME','STATE', 'REGION']].drop_duplicates()\n",
    "unique_fires.dropna(subset=['REGION'], inplace=True)\n",
    "unique_fires.shape\n",
    "\n",
    "alt.Chart(unique_fires).mark_area().encode(\n",
    "    alt.X('FIRE_YEAR:T',\n",
    "         axis=alt.Axis(format='%Y', domain=False, \n",
    "                       tickSize=0, title='Year')\n",
    "    ),\n",
    "    alt.Y('count():Q', stack='center', \n",
    "          axis=alt.Axis(title='Number of Fires')),\n",
    "    alt.Color('REGION:N', scale=alt.Scale(scheme='set1'))\n",
    "    )"
   ]
  },
  {
   "cell_type": "markdown",
   "metadata": {},
   "source": [
    "# 3.) Barplot of number of fires by cause"
   ]
  },
  {
   "cell_type": "code",
   "execution_count": 7,
   "metadata": {
    "ExecuteTime": {
     "end_time": "2019-05-16T22:46:00.430505Z",
     "start_time": "2019-05-16T22:46:00.032190Z"
    },
    "scrolled": true
   },
   "outputs": [
    {
     "data": {
      "image/png": "[encoded data removed]",
      "text/plain": [
       "<Figure size 792x576 with 1 Axes>"
      ]
     },
     "metadata": {
      "needs_background": "light"
     },
     "output_type": "display_data"
    }
   ],
   "source": [
    "fire_causes_cnt = fires.groupby(\"STAT_CAUSE_DESCR\").size()\n",
    "fire_causes_cnt = fire_causes_cnt.reset_index().rename({0: \"count\"}, axis=1)\n",
    "fire_causes_cnt = fire_causes_cnt.sort_values(\"count\", ascending=False)\n",
    "fig, ax = plt.subplots(figsize=(11, 8))\n",
    "sns.barplot(\"count\", \"STAT_CAUSE_DESCR\", data=fire_causes_cnt, ax=ax)\n",
    "ax.set_ylabel(\"Cause of Fire\")\n",
    "ax.set_xlabel(\"Number of Fires\")\n",
    "ax.set_title(\"Number of Fires by Cause\")\n",
    "plt.show()"
   ]
  },
  {
   "cell_type": "markdown",
   "metadata": {
    "ExecuteTime": {
     "end_time": "2019-05-12T20:57:52.724056Z",
     "start_time": "2019-05-12T20:57:52.719263Z"
    }
   },
   "source": [
    "# 4.) Boxplot of size of fire by region"
   ]
  },
  {
   "cell_type": "code",
   "execution_count": 8,
   "metadata": {
    "ExecuteTime": {
     "end_time": "2019-05-16T22:46:03.048278Z",
     "start_time": "2019-05-16T22:46:00.441318Z"
    }
   },
   "outputs": [
    {
     "data": {
      "image/png": "[encoded data removed]",
      "text/plain": [
       "<Figure size 792x576 with 1 Axes>"
      ]
     },
     "metadata": {
      "needs_background": "light"
     },
     "output_type": "display_data"
    }
   ],
   "source": [
    "fig, ax = plt.subplots(figsize=(11, 8))\n",
    "fires_boxplot = fires[[\"REGION\", \"STAT_CAUSE_DESCR\", \"FIRE_SIZE\"]]\n",
    "\n",
    "sns.boxplot(\"REGION\", \"FIRE_SIZE\", data=fires_boxplot, ax=ax,\n",
    "           order=all_regions, palette=region_colors_dict)\n",
    "ax.set_yscale(\"log\")\n",
    "ax.set_xlabel(\"Census Region\")\n",
    "ax.set_ylabel(\"Size of Fire (acres)\")\n",
    "ax.set_title(\"Size of Fires in acres by Region\")\n",
    "plt.show()"
   ]
  },
  {
   "cell_type": "markdown",
   "metadata": {},
   "source": [
    "# 5.) Scatterplot of number of fires vs drought in each census region"
   ]
  },
  {
   "cell_type": "code",
   "execution_count": 9,
   "metadata": {
    "ExecuteTime": {
     "end_time": "2019-05-16T22:46:04.325717Z",
     "start_time": "2019-05-16T22:46:03.049965Z"
    }
   },
   "outputs": [],
   "source": [
    "droughts_by_region = droughts.groupby(['REGION', 'month', 'year'])['D0'].mean().reset_index()\n",
    "droughts_by_region.rename({'D0': 'pct_drought'}, axis=1, inplace=True)\n",
    "\n",
    "fires_by_region = fires.groupby(['REGION', 'month', 'year'])['FIRE_SIZE'].mean().reset_index()\n",
    "\n",
    "fires_droughts_region = fires_by_region.merge(droughts_by_region, on=['REGION', 'month', 'year'])"
   ]
  },
  {
   "cell_type": "code",
   "execution_count": 10,
   "metadata": {
    "ExecuteTime": {
     "end_time": "2019-05-16T22:46:05.612008Z",
     "start_time": "2019-05-16T22:46:04.327423Z"
    }
   },
   "outputs": [
    {
     "name": "stderr",
     "output_type": "stream",
     "text": [
      "/home/tomo/anaconda3/envs/ml/lib/python3.7/site-packages/scipy/stats/stats.py:1713: FutureWarning: Using a non-tuple sequence for multidimensional indexing is deprecated; use `arr[tuple(seq)]` instead of `arr[seq]`. In the future this will be interpreted as an array index, `arr[np.array(seq)]`, which will result either in an error or a different result.\n",
      "  return np.add.reduce(sorted[indexer] * weights, axis=axis) / sumval\n"
     ]
    },
    {
     "data": {
      "image/png": "[encoded data removed]",
      "text/plain": [
       "<Figure size 792x576 with 1 Axes>"
      ]
     },
     "metadata": {
      "needs_background": "light"
     },
     "output_type": "display_data"
    }
   ],
   "source": [
    "fig, ax = plt.subplots(figsize=(11, 8))\n",
    "\n",
    "sns.scatterplot(\"pct_drought\", \"FIRE_SIZE\", data=fires_droughts_region, hue=\"REGION\", \n",
    "                hue_order=all_regions, palette=region_colors_dict, alpha=0.8, ax=ax)\n",
    "sns.regplot(\"pct_drought\", \"FIRE_SIZE\", data=fires_droughts_region,\n",
    "            scatter=False, ax=ax)\n",
    "ax.set_yscale(\"log\")\n",
    "ax.set_xlabel(\"Percent of region in drought\")\n",
    "ax.set_ylabel(\"Average Size of Fire (acres)\")\n",
    "ax.set_title(\"Percentage of Drought vs Size of Fires\\nfor every month from 2000-2015 per Census Region\")\n",
    "plt.show()"
   ]
  },
  {
   "cell_type": "markdown",
   "metadata": {},
   "source": [
    " # 6.) Chloropleth map of drought in each state (and interactive plot)"
   ]
  },
  {
   "cell_type": "code",
   "execution_count": 11,
   "metadata": {
    "ExecuteTime": {
     "end_time": "2019-05-16T22:46:06.491128Z",
     "start_time": "2019-05-16T22:46:05.614106Z"
    }
   },
   "outputs": [
    {
     "data": {
      "text/html": [
       "<script type=\"text/javascript\">window.PlotlyConfig = {MathJaxConfig: 'local'};</script><script type=\"text/javascript\">if (window.MathJax) {MathJax.Hub.Config({SVG: {font: \"STIX-Web\"}});}</script><script>requirejs.config({paths: { 'plotly': ['https://cdn.plot.ly/plotly-latest.min']},});if(!window._Plotly) {require(['plotly'],function(plotly) {window._Plotly=plotly;});}</script>"
      ],
      "text/vnd.plotly.v1+html": [
       "<script type=\"text/javascript\">window.PlotlyConfig = {MathJaxConfig: 'local'};</script><script type=\"text/javascript\">if (window.MathJax) {MathJax.Hub.Config({SVG: {font: \"STIX-Web\"}});}</script><script>requirejs.config({paths: { 'plotly': ['https://cdn.plot.ly/plotly-latest.min']},});if(!window._Plotly) {require(['plotly'],function(plotly) {window._Plotly=plotly;});}</script>"
      ]
     },
     "metadata": {},
     "output_type": "display_data"
    },
    {
     "data": {
      "text/html": [
       "<script type=\"text/javascript\">window.PlotlyConfig = {MathJaxConfig: 'local'};</script><script type=\"text/javascript\">if (window.MathJax) {MathJax.Hub.Config({SVG: {font: \"STIX-Web\"}});}</script><script>requirejs.config({paths: { 'plotly': ['https://cdn.plot.ly/plotly-latest.min']},});if(!window._Plotly) {require(['plotly'],function(plotly) {window._Plotly=plotly;});}</script>"
      ],
      "text/vnd.plotly.v1+html": [
       "<script type=\"text/javascript\">window.PlotlyConfig = {MathJaxConfig: 'local'};</script><script type=\"text/javascript\">if (window.MathJax) {MathJax.Hub.Config({SVG: {font: \"STIX-Web\"}});}</script><script>requirejs.config({paths: { 'plotly': ['https://cdn.plot.ly/plotly-latest.min']},});if(!window._Plotly) {require(['plotly'],function(plotly) {window._Plotly=plotly;});}</script>"
      ]
     },
     "metadata": {},
     "output_type": "display_data"
    }
   ],
   "source": [
    "import plotly.plotly as py\n",
    "import plotly.graph_objs as go\n",
    "from plotly.offline import iplot, init_notebook_mode\n",
    "# Using plotly + cufflinks in offline mode\n",
    "import cufflinks\n",
    "cufflinks.go_offline(connected=True)\n",
    "cufflinks.set_config_file(world_readable=True, theme='pearl')\n",
    "init_notebook_mode(connected=True)\n",
    "\n",
    "import plotly\n",
    "plotly.tools.set_credentials_file(username='tishihar94', api_key='U28TQB1yXwEkAezy3zme')"
   ]
  },
  {
   "cell_type": "code",
   "execution_count": 12,
   "metadata": {
    "ExecuteTime": {
     "end_time": "2019-05-16T22:46:07.714558Z",
     "start_time": "2019-05-16T22:46:06.492589Z"
    }
   },
   "outputs": [
    {
     "data": {
      "application/vnd.plotly.v1+json": {
       "config": {
        "linkText": "Export to plot.ly",
        "plotlyServerURL": "https://plot.ly",
        "showLink": false
       },
       "data": [
        {
         "colorbar": {
          "title": {
           "text": "Percent of State in Drought"
          }
         },
         "colorscale": "Bluered",
         "locationmode": "USA-states",
         "locations": [
          "IA",
          "IL",
          "IN",
          "KS",
          "MI",
          "MN",
          "MO",
          "ND",
          "NE",
          "OH",
          "SD",
          "WI",
          "CT",
          "MA",
          "ME",
          "NH",
          "NJ",
          "NY",
          "PA",
          "RI",
          "VT",
          "AK",
          "CA",
          "HI",
          "OR",
          "WA",
          "AL",
          "AR",
          "DC",
          "DE",
          "FL",
          "GA",
          "KY",
          "LA",
          "MD",
          "MS",
          "NC",
          "OK",
          "SC",
          "TN",
          "TX",
          "VA",
          "WV",
          "AZ",
          "CO",
          "ID",
          "MT",
          "NM",
          "NV",
          "UT",
          "WY"
         ],
         "marker": {
          "line": {
           "color": "rgb(255,255,255)",
           "width": 2
          }
         },
         "text": [
          "Region: Midwest<br>State: IA<br>Percent Drought: 33.8995%",
          "Region: Midwest<br>State: IL<br>Percent Drought: 23.7675%",
          "Region: Midwest<br>State: IN<br>Percent Drought: 20.7103%",
          "Region: Midwest<br>State: KS<br>Percent Drought: 49.1066%",
          "Region: Midwest<br>State: MI<br>Percent Drought: 26.3565%",
          "Region: Midwest<br>State: MN<br>Percent Drought: 39.6613%",
          "Region: Midwest<br>State: MO<br>Percent Drought: 31.9004%",
          "Region: Midwest<br>State: ND<br>Percent Drought: 41.7648%",
          "Region: Midwest<br>State: NE<br>Percent Drought: 53.3526%",
          "Region: Midwest<br>State: OH<br>Percent Drought: 17.5156%",
          "Region: Midwest<br>State: SD<br>Percent Drought: 42.9657%",
          "Region: Midwest<br>State: WI<br>Percent Drought: 32.3764%",
          "Region: Northeast<br>State: CT<br>Percent Drought: 28.9957%",
          "Region: Northeast<br>State: MA<br>Percent Drought: 23.1115%",
          "Region: Northeast<br>State: ME<br>Percent Drought: 21.593%",
          "Region: Northeast<br>State: NH<br>Percent Drought: 20.6885%",
          "Region: Northeast<br>State: NJ<br>Percent Drought: 22.2212%",
          "Region: Northeast<br>State: NY<br>Percent Drought: 17.8269%",
          "Region: Northeast<br>State: PA<br>Percent Drought: 21.2489%",
          "Region: Northeast<br>State: RI<br>Percent Drought: 24.6771%",
          "Region: Northeast<br>State: VT<br>Percent Drought: 16.2545%",
          "Region: Pacific<br>State: AK<br>Percent Drought: 15.2866%",
          "Region: Pacific<br>State: CA<br>Percent Drought: 58.012%",
          "Region: Pacific<br>State: HI<br>Percent Drought: 54.7073%",
          "Region: Pacific<br>State: OR<br>Percent Drought: 46.3103%",
          "Region: Pacific<br>State: WA<br>Percent Drought: 37.6815%",
          "Region: South<br>State: AL<br>Percent Drought: 43.051%",
          "Region: South<br>State: AR<br>Percent Drought: 37.29%",
          "Region: South<br>State: DC<br>Percent Drought: 24.5379%",
          "Region: South<br>State: DE<br>Percent Drought: 23.8429%",
          "Region: South<br>State: FL<br>Percent Drought: 39.6734%",
          "Region: South<br>State: GA<br>Percent Drought: 53.3585%",
          "Region: South<br>State: KY<br>Percent Drought: 25.66%",
          "Region: South<br>State: LA<br>Percent Drought: 39.8163%",
          "Region: South<br>State: MD<br>Percent Drought: 25.1634%",
          "Region: South<br>State: MS<br>Percent Drought: 32.7377%",
          "Region: South<br>State: NC<br>Percent Drought: 43.5923%",
          "Region: South<br>State: OK<br>Percent Drought: 48.8989%",
          "Region: South<br>State: SC<br>Percent Drought: 53.7358%",
          "Region: South<br>State: TN<br>Percent Drought: 34.781%",
          "Region: South<br>State: TX<br>Percent Drought: 55.0949%",
          "Region: South<br>State: VA<br>Percent Drought: 31.3448%",
          "Region: South<br>State: WV<br>Percent Drought: 23.0059%",
          "Region: West<br>State: AZ<br>Percent Drought: 78.1817%",
          "Region: West<br>State: CO<br>Percent Drought: 55.4183%",
          "Region: West<br>State: ID<br>Percent Drought: 65.2077%",
          "Region: West<br>State: MT<br>Percent Drought: 55.3518%",
          "Region: West<br>State: NM<br>Percent Drought: 70.6822%",
          "Region: West<br>State: NV<br>Percent Drought: 76.1377%",
          "Region: West<br>State: UT<br>Percent Drought: 64.7962%",
          "Region: West<br>State: WY<br>Percent Drought: 64.3398%"
         ],
         "type": "choropleth",
         "uid": "a3dc9e21-2359-4061-bb3e-180f15df8955",
         "z": [
          33.89951114594218,
          23.7674518255578,
          20.71027610301992,
          49.10659425287359,
          26.356485993234028,
          39.661327076609496,
          31.9004053758835,
          41.76477595501441,
          53.35255249218708,
          17.51561013770712,
          42.96574387968353,
          32.37643325807334,
          28.995731527093593,
          23.11154292751583,
          21.59298506773399,
          20.688538916256157,
          22.221196927046673,
          17.82688344191959,
          21.248855562091027,
          24.677146798029558,
          16.254515130190004,
          15.286632913701883,
          58.011996942415486,
          54.70725812807882,
          46.31025684181718,
          37.68147246431731,
          43.05101764576138,
          37.28995809523811,
          24.537857142857145,
          23.84287520525451,
          39.67342029997794,
          53.358469157604524,
          25.660006055008207,
          39.81631353910101,
          25.16336873973727,
          32.737738886218914,
          43.59234857142856,
          48.898929882924946,
          53.735821267937446,
          34.7809962665284,
          55.0949343411815,
          31.34482788030292,
          23.005861755485896,
          78.18171789819374,
          55.41826008312806,
          65.20771221450961,
          55.351784482758646,
          70.68216047171221,
          76.1377082005216,
          64.79624180397488,
          64.33982480188475
         ]
        }
       ],
       "layout": {
        "autosize": true,
        "geo": {
         "lakecolor": "rgb(255, 255, 255)",
         "projection": {
          "type": "albers usa"
         },
         "scope": "usa",
         "showlakes": true
        },
        "hovermode": "closest",
        "title": {
         "text": "Average Percent of State in Drought (2000-2016)"
        }
       }
      },
      "text/html": [
       "<div id=\"49473068-6f0e-4570-a977-a765d493108e\" style=\"height: 525px; width: 100%;\" class=\"plotly-graph-div\"></div><script type=\"text/javascript\">require([\"plotly\"], function(Plotly) { window.PLOTLYENV=window.PLOTLYENV || {};window.PLOTLYENV.BASE_URL=\"https://plot.ly\";\n",
       "if (document.getElementById(\"49473068-6f0e-4570-a977-a765d493108e\")) {\n",
       "    Plotly.newPlot(\"49473068-6f0e-4570-a977-a765d493108e\", [{\"colorbar\": {\"title\": {\"text\": \"Percent of State in Drought\"}}, \"colorscale\": \"Bluered\", \"locationmode\": \"USA-states\", \"locations\": [\"IA\", \"IL\", \"IN\", \"KS\", \"MI\", \"MN\", \"MO\", \"ND\", \"NE\", \"OH\", \"SD\", \"WI\", \"CT\", \"MA\", \"ME\", \"NH\", \"NJ\", \"NY\", \"PA\", \"RI\", \"VT\", \"AK\", \"CA\", \"HI\", \"OR\", \"WA\", \"AL\", \"AR\", \"DC\", \"DE\", \"FL\", \"GA\", \"KY\", \"LA\", \"MD\", \"MS\", \"NC\", \"OK\", \"SC\", \"TN\", \"TX\", \"VA\", \"WV\", \"AZ\", \"CO\", \"ID\", \"MT\", \"NM\", \"NV\", \"UT\", \"WY\"], \"marker\": {\"line\": {\"color\": \"rgb(255,255,255)\", \"width\": 2}}, \"text\": [\"Region: Midwest<br>State: IA<br>Percent Drought: 33.8995%\", \"Region: Midwest<br>State: IL<br>Percent Drought: 23.7675%\", \"Region: Midwest<br>State: IN<br>Percent Drought: 20.7103%\", \"Region: Midwest<br>State: KS<br>Percent Drought: 49.1066%\", \"Region: Midwest<br>State: MI<br>Percent Drought: 26.3565%\", \"Region: Midwest<br>State: MN<br>Percent Drought: 39.6613%\", \"Region: Midwest<br>State: MO<br>Percent Drought: 31.9004%\", \"Region: Midwest<br>State: ND<br>Percent Drought: 41.7648%\", \"Region: Midwest<br>State: NE<br>Percent Drought: 53.3526%\", \"Region: Midwest<br>State: OH<br>Percent Drought: 17.5156%\", \"Region: Midwest<br>State: SD<br>Percent Drought: 42.9657%\", \"Region: Midwest<br>State: WI<br>Percent Drought: 32.3764%\", \"Region: Northeast<br>State: CT<br>Percent Drought: 28.9957%\", \"Region: Northeast<br>State: MA<br>Percent Drought: 23.1115%\", \"Region: Northeast<br>State: ME<br>Percent Drought: 21.593%\", \"Region: Northeast<br>State: NH<br>Percent Drought: 20.6885%\", \"Region: Northeast<br>State: NJ<br>Percent Drought: 22.2212%\", \"Region: Northeast<br>State: NY<br>Percent Drought: 17.8269%\", \"Region: Northeast<br>State: PA<br>Percent Drought: 21.2489%\", \"Region: Northeast<br>State: RI<br>Percent Drought: 24.6771%\", \"Region: Northeast<br>State: VT<br>Percent Drought: 16.2545%\", \"Region: Pacific<br>State: AK<br>Percent Drought: 15.2866%\", \"Region: Pacific<br>State: CA<br>Percent Drought: 58.012%\", \"Region: Pacific<br>State: HI<br>Percent Drought: 54.7073%\", \"Region: Pacific<br>State: OR<br>Percent Drought: 46.3103%\", \"Region: Pacific<br>State: WA<br>Percent Drought: 37.6815%\", \"Region: South<br>State: AL<br>Percent Drought: 43.051%\", \"Region: South<br>State: AR<br>Percent Drought: 37.29%\", \"Region: South<br>State: DC<br>Percent Drought: 24.5379%\", \"Region: South<br>State: DE<br>Percent Drought: 23.8429%\", \"Region: South<br>State: FL<br>Percent Drought: 39.6734%\", \"Region: South<br>State: GA<br>Percent Drought: 53.3585%\", \"Region: South<br>State: KY<br>Percent Drought: 25.66%\", \"Region: South<br>State: LA<br>Percent Drought: 39.8163%\", \"Region: South<br>State: MD<br>Percent Drought: 25.1634%\", \"Region: South<br>State: MS<br>Percent Drought: 32.7377%\", \"Region: South<br>State: NC<br>Percent Drought: 43.5923%\", \"Region: South<br>State: OK<br>Percent Drought: 48.8989%\", \"Region: South<br>State: SC<br>Percent Drought: 53.7358%\", \"Region: South<br>State: TN<br>Percent Drought: 34.781%\", \"Region: South<br>State: TX<br>Percent Drought: 55.0949%\", \"Region: South<br>State: VA<br>Percent Drought: 31.3448%\", \"Region: South<br>State: WV<br>Percent Drought: 23.0059%\", \"Region: West<br>State: AZ<br>Percent Drought: 78.1817%\", \"Region: West<br>State: CO<br>Percent Drought: 55.4183%\", \"Region: West<br>State: ID<br>Percent Drought: 65.2077%\", \"Region: West<br>State: MT<br>Percent Drought: 55.3518%\", \"Region: West<br>State: NM<br>Percent Drought: 70.6822%\", \"Region: West<br>State: NV<br>Percent Drought: 76.1377%\", \"Region: West<br>State: UT<br>Percent Drought: 64.7962%\", \"Region: West<br>State: WY<br>Percent Drought: 64.3398%\"], \"z\": [33.89951114594218, 23.7674518255578, 20.71027610301992, 49.10659425287359, 26.356485993234028, 39.661327076609496, 31.9004053758835, 41.76477595501441, 53.35255249218708, 17.51561013770712, 42.96574387968353, 32.37643325807334, 28.995731527093593, 23.11154292751583, 21.59298506773399, 20.688538916256157, 22.221196927046673, 17.82688344191959, 21.248855562091027, 24.677146798029558, 16.254515130190004, 15.286632913701883, 58.011996942415486, 54.70725812807882, 46.31025684181718, 37.68147246431731, 43.05101764576138, 37.28995809523811, 24.537857142857145, 23.84287520525451, 39.67342029997794, 53.358469157604524, 25.660006055008207, 39.81631353910101, 25.16336873973727, 32.737738886218914, 43.59234857142856, 48.898929882924946, 53.735821267937446, 34.7809962665284, 55.0949343411815, 31.34482788030292, 23.005861755485896, 78.18171789819374, 55.41826008312806, 65.20771221450961, 55.351784482758646, 70.68216047171221, 76.1377082005216, 64.79624180397488, 64.33982480188475], \"type\": \"choropleth\", \"uid\": \"a3dc9e21-2359-4061-bb3e-180f15df8955\"}], {\"autosize\": true, \"geo\": {\"lakecolor\": \"rgb(255, 255, 255)\", \"projection\": {\"type\": \"albers usa\"}, \"scope\": \"usa\", \"showlakes\": true}, \"hovermode\": \"closest\", \"title\": {\"text\": \"Average Percent of State in Drought (2000-2016)\"}}, {\"showLink\": false, \"linkText\": \"Export to plot.ly\", \"plotlyServerURL\": \"https://plot.ly\"}); \n",
       "}\n",
       "});</script><script type=\"text/javascript\">window.addEventListener(\"resize\", function(){if (document.getElementById(\"49473068-6f0e-4570-a977-a765d493108e\")) {window._Plotly.Plots.resize(document.getElementById(\"49473068-6f0e-4570-a977-a765d493108e\"));};})</script>"
      ],
      "text/vnd.plotly.v1+html": [
       "<div id=\"49473068-6f0e-4570-a977-a765d493108e\" style=\"height: 525px; width: 100%;\" class=\"plotly-graph-div\"></div><script type=\"text/javascript\">require([\"plotly\"], function(Plotly) { window.PLOTLYENV=window.PLOTLYENV || {};window.PLOTLYENV.BASE_URL=\"https://plot.ly\";\n",
       "if (document.getElementById(\"49473068-6f0e-4570-a977-a765d493108e\")) {\n",
       "    Plotly.newPlot(\"49473068-6f0e-4570-a977-a765d493108e\", [{\"colorbar\": {\"title\": {\"text\": \"Percent of State in Drought\"}}, \"colorscale\": \"Bluered\", \"locationmode\": \"USA-states\", \"locations\": [\"IA\", \"IL\", \"IN\", \"KS\", \"MI\", \"MN\", \"MO\", \"ND\", \"NE\", \"OH\", \"SD\", \"WI\", \"CT\", \"MA\", \"ME\", \"NH\", \"NJ\", \"NY\", \"PA\", \"RI\", \"VT\", \"AK\", \"CA\", \"HI\", \"OR\", \"WA\", \"AL\", \"AR\", \"DC\", \"DE\", \"FL\", \"GA\", \"KY\", \"LA\", \"MD\", \"MS\", \"NC\", \"OK\", \"SC\", \"TN\", \"TX\", \"VA\", \"WV\", \"AZ\", \"CO\", \"ID\", \"MT\", \"NM\", \"NV\", \"UT\", \"WY\"], \"marker\": {\"line\": {\"color\": \"rgb(255,255,255)\", \"width\": 2}}, \"text\": [\"Region: Midwest<br>State: IA<br>Percent Drought: 33.8995%\", \"Region: Midwest<br>State: IL<br>Percent Drought: 23.7675%\", \"Region: Midwest<br>State: IN<br>Percent Drought: 20.7103%\", \"Region: Midwest<br>State: KS<br>Percent Drought: 49.1066%\", \"Region: Midwest<br>State: MI<br>Percent Drought: 26.3565%\", \"Region: Midwest<br>State: MN<br>Percent Drought: 39.6613%\", \"Region: Midwest<br>State: MO<br>Percent Drought: 31.9004%\", \"Region: Midwest<br>State: ND<br>Percent Drought: 41.7648%\", \"Region: Midwest<br>State: NE<br>Percent Drought: 53.3526%\", \"Region: Midwest<br>State: OH<br>Percent Drought: 17.5156%\", \"Region: Midwest<br>State: SD<br>Percent Drought: 42.9657%\", \"Region: Midwest<br>State: WI<br>Percent Drought: 32.3764%\", \"Region: Northeast<br>State: CT<br>Percent Drought: 28.9957%\", \"Region: Northeast<br>State: MA<br>Percent Drought: 23.1115%\", \"Region: Northeast<br>State: ME<br>Percent Drought: 21.593%\", \"Region: Northeast<br>State: NH<br>Percent Drought: 20.6885%\", \"Region: Northeast<br>State: NJ<br>Percent Drought: 22.2212%\", \"Region: Northeast<br>State: NY<br>Percent Drought: 17.8269%\", \"Region: Northeast<br>State: PA<br>Percent Drought: 21.2489%\", \"Region: Northeast<br>State: RI<br>Percent Drought: 24.6771%\", \"Region: Northeast<br>State: VT<br>Percent Drought: 16.2545%\", \"Region: Pacific<br>State: AK<br>Percent Drought: 15.2866%\", \"Region: Pacific<br>State: CA<br>Percent Drought: 58.012%\", \"Region: Pacific<br>State: HI<br>Percent Drought: 54.7073%\", \"Region: Pacific<br>State: OR<br>Percent Drought: 46.3103%\", \"Region: Pacific<br>State: WA<br>Percent Drought: 37.6815%\", \"Region: South<br>State: AL<br>Percent Drought: 43.051%\", \"Region: South<br>State: AR<br>Percent Drought: 37.29%\", \"Region: South<br>State: DC<br>Percent Drought: 24.5379%\", \"Region: South<br>State: DE<br>Percent Drought: 23.8429%\", \"Region: South<br>State: FL<br>Percent Drought: 39.6734%\", \"Region: South<br>State: GA<br>Percent Drought: 53.3585%\", \"Region: South<br>State: KY<br>Percent Drought: 25.66%\", \"Region: South<br>State: LA<br>Percent Drought: 39.8163%\", \"Region: South<br>State: MD<br>Percent Drought: 25.1634%\", \"Region: South<br>State: MS<br>Percent Drought: 32.7377%\", \"Region: South<br>State: NC<br>Percent Drought: 43.5923%\", \"Region: South<br>State: OK<br>Percent Drought: 48.8989%\", \"Region: South<br>State: SC<br>Percent Drought: 53.7358%\", \"Region: South<br>State: TN<br>Percent Drought: 34.781%\", \"Region: South<br>State: TX<br>Percent Drought: 55.0949%\", \"Region: South<br>State: VA<br>Percent Drought: 31.3448%\", \"Region: South<br>State: WV<br>Percent Drought: 23.0059%\", \"Region: West<br>State: AZ<br>Percent Drought: 78.1817%\", \"Region: West<br>State: CO<br>Percent Drought: 55.4183%\", \"Region: West<br>State: ID<br>Percent Drought: 65.2077%\", \"Region: West<br>State: MT<br>Percent Drought: 55.3518%\", \"Region: West<br>State: NM<br>Percent Drought: 70.6822%\", \"Region: West<br>State: NV<br>Percent Drought: 76.1377%\", \"Region: West<br>State: UT<br>Percent Drought: 64.7962%\", \"Region: West<br>State: WY<br>Percent Drought: 64.3398%\"], \"z\": [33.89951114594218, 23.7674518255578, 20.71027610301992, 49.10659425287359, 26.356485993234028, 39.661327076609496, 31.9004053758835, 41.76477595501441, 53.35255249218708, 17.51561013770712, 42.96574387968353, 32.37643325807334, 28.995731527093593, 23.11154292751583, 21.59298506773399, 20.688538916256157, 22.221196927046673, 17.82688344191959, 21.248855562091027, 24.677146798029558, 16.254515130190004, 15.286632913701883, 58.011996942415486, 54.70725812807882, 46.31025684181718, 37.68147246431731, 43.05101764576138, 37.28995809523811, 24.537857142857145, 23.84287520525451, 39.67342029997794, 53.358469157604524, 25.660006055008207, 39.81631353910101, 25.16336873973727, 32.737738886218914, 43.59234857142856, 48.898929882924946, 53.735821267937446, 34.7809962665284, 55.0949343411815, 31.34482788030292, 23.005861755485896, 78.18171789819374, 55.41826008312806, 65.20771221450961, 55.351784482758646, 70.68216047171221, 76.1377082005216, 64.79624180397488, 64.33982480188475], \"type\": \"choropleth\", \"uid\": \"a3dc9e21-2359-4061-bb3e-180f15df8955\"}], {\"autosize\": true, \"geo\": {\"lakecolor\": \"rgb(255, 255, 255)\", \"projection\": {\"type\": \"albers usa\"}, \"scope\": \"usa\", \"showlakes\": true}, \"hovermode\": \"closest\", \"title\": {\"text\": \"Average Percent of State in Drought (2000-2016)\"}}, {\"showLink\": false, \"linkText\": \"Export to plot.ly\", \"plotlyServerURL\": \"https://plot.ly\"}); \n",
       "}\n",
       "});</script><script type=\"text/javascript\">window.addEventListener(\"resize\", function(){if (document.getElementById(\"49473068-6f0e-4570-a977-a765d493108e\")) {window._Plotly.Plots.resize(document.getElementById(\"49473068-6f0e-4570-a977-a765d493108e\"));};})</script>"
      ]
     },
     "metadata": {},
     "output_type": "display_data"
    }
   ],
   "source": [
    "droughts_by_state = droughts.groupby(['REGION', 'state', 'month', 'year'])['D0'].mean().reset_index()\n",
    "droughts_by_state.rename({'D0': 'pct_drought'}, axis=1, inplace=True)\n",
    "\n",
    "droughts_avg_state = droughts_by_state.groupby(['REGION', 'state'])['pct_drought'].mean().reset_index()\n",
    "\n",
    "chloropleth_text =  [f\"Region: {region}<br>State: {state}<br>Percent Drought: {np.round(pct_drought, 4)}%\" \n",
    "                     for region,state,pct_drought in droughts_avg_state[['REGION', 'state', 'pct_drought']].values]\n",
    "\n",
    "data = [go.Choropleth(\n",
    "            locations = droughts_avg_state['state'],\n",
    "            z = droughts_avg_state['pct_drought'],\n",
    "            locationmode = 'USA-states',\n",
    "            text = chloropleth_text,\n",
    "            colorscale = 'Bluered',\n",
    "            marker = go.choropleth.Marker(\n",
    "                line = go.choropleth.marker.Line(\n",
    "                    color = 'rgb(255,255,255)',\n",
    "                    width = 2\n",
    "                )),\n",
    "            colorbar = go.choropleth.ColorBar(\n",
    "                title = \"Percent of State in Drought\"\n",
    "                )\n",
    "        )]\n",
    "\n",
    "layout = go.Layout(\n",
    "    title='Average Percent of State in Drought (2000-2016)',\n",
    "    autosize=True,\n",
    "    hovermode='closest',\n",
    "    geo = go.layout.Geo(\n",
    "        scope = 'usa',\n",
    "        projection = go.layout.geo.Projection(type = 'albers usa'),\n",
    "        showlakes = True,\n",
    "        lakecolor = 'rgb(255, 255, 255)'),\n",
    ")\n",
    "\n",
    "fig = go.Figure(data=data, layout=layout)\n",
    "iplot(fig)"
   ]
  },
  {
   "cell_type": "markdown",
   "metadata": {},
   "source": [
    "# 7.) Bubble map of number of fires per state\n"
   ]
  },
  {
   "cell_type": "code",
   "execution_count": 13,
   "metadata": {
    "ExecuteTime": {
     "end_time": "2019-05-16T22:46:08.034674Z",
     "start_time": "2019-05-16T22:46:07.715913Z"
    }
   },
   "outputs": [
    {
     "data": {
      "application/vnd.plotly.v1+json": {
       "config": {
        "linkText": "Export to plot.ly",
        "plotlyServerURL": "https://plot.ly",
        "showLink": false
       },
       "data": [
        {
         "locationmode": "USA-states",
         "locations": [
          "IA",
          "IL",
          "IN",
          "KS",
          "MI",
          "MN",
          "MO",
          "ND",
          "NE",
          "OH",
          "SD",
          "WI",
          "CT",
          "MA",
          "ME",
          "NH",
          "NJ",
          "NY",
          "PA",
          "RI",
          "VT",
          "AK",
          "CA",
          "HI",
          "OR",
          "WA",
          "AL",
          "AR",
          "DC",
          "DE",
          "FL",
          "GA",
          "KY",
          "LA",
          "MD",
          "MS",
          "NC",
          "OK",
          "SC",
          "TN",
          "TX",
          "VA",
          "WV",
          "AZ",
          "CO",
          "ID",
          "MT",
          "NM",
          "NV",
          "UT",
          "WY"
         ],
         "marker": {
          "color": [
           4134,
           2327,
           2098,
           7673,
           10502,
           44769,
           17953,
           15201,
           7973,
           3479,
           30963,
           31861,
           4976,
           2626,
           13150,
           2452,
           25949,
           80870,
           8712,
           480,
           456,
           12843,
           189550,
           9895,
           61088,
           33513,
           66570,
           31663,
           66,
           171,
           90261,
           168867,
           27089,
           30013,
           3622,
           79230,
           111277,
           43239,
           81315,
           31154,
           142021,
           21833,
           21967,
           71586,
           34157,
           36698,
           40767,
           37478,
           16956,
           30725,
           14166
          ],
          "colorscale": "Bluered",
          "line": {
           "color": "rgb(40,40,40)",
           "width": 0.5
          },
          "size": [
           27.56,
           15.513333333333334,
           13.986666666666666,
           51.153333333333336,
           70.01333333333334,
           298.46,
           119.68666666666667,
           101.34,
           53.153333333333336,
           23.19333333333333,
           206.42,
           212.40666666666667,
           33.17333333333333,
           17.506666666666668,
           87.66666666666667,
           16.346666666666668,
           172.99333333333334,
           539.1333333333333,
           58.08,
           3.2,
           3.04,
           85.62,
           1263.6666666666667,
           65.96666666666667,
           407.25333333333333,
           223.42,
           443.8,
           211.08666666666667,
           0.44,
           1.14,
           601.74,
           1125.78,
           180.59333333333333,
           200.08666666666667,
           24.14666666666667,
           528.2,
           741.8466666666667,
           288.26,
           542.1,
           207.69333333333333,
           946.8066666666666,
           145.55333333333334,
           146.44666666666666,
           477.24,
           227.71333333333334,
           244.65333333333334,
           271.78,
           249.85333333333332,
           113.04,
           204.83333333333334,
           94.44
          ],
          "sizemode": "area"
         },
         "name": "Number of Fires",
         "text": [
          "Region: Midwest<br>Num Fires: 4134",
          "Region: Midwest<br>Num Fires: 2327",
          "Region: Midwest<br>Num Fires: 2098",
          "Region: Midwest<br>Num Fires: 7673",
          "Region: Midwest<br>Num Fires: 10502",
          "Region: Midwest<br>Num Fires: 44769",
          "Region: Midwest<br>Num Fires: 17953",
          "Region: Midwest<br>Num Fires: 15201",
          "Region: Midwest<br>Num Fires: 7973",
          "Region: Midwest<br>Num Fires: 3479",
          "Region: Midwest<br>Num Fires: 30963",
          "Region: Midwest<br>Num Fires: 31861",
          "Region: Northeast<br>Num Fires: 4976",
          "Region: Northeast<br>Num Fires: 2626",
          "Region: Northeast<br>Num Fires: 13150",
          "Region: Northeast<br>Num Fires: 2452",
          "Region: Northeast<br>Num Fires: 25949",
          "Region: Northeast<br>Num Fires: 80870",
          "Region: Northeast<br>Num Fires: 8712",
          "Region: Northeast<br>Num Fires: 480",
          "Region: Northeast<br>Num Fires: 456",
          "Region: Pacific<br>Num Fires: 12843",
          "Region: Pacific<br>Num Fires: 189550",
          "Region: Pacific<br>Num Fires: 9895",
          "Region: Pacific<br>Num Fires: 61088",
          "Region: Pacific<br>Num Fires: 33513",
          "Region: South<br>Num Fires: 66570",
          "Region: South<br>Num Fires: 31663",
          "Region: South<br>Num Fires: 66",
          "Region: South<br>Num Fires: 171",
          "Region: South<br>Num Fires: 90261",
          "Region: South<br>Num Fires: 168867",
          "Region: South<br>Num Fires: 27089",
          "Region: South<br>Num Fires: 30013",
          "Region: South<br>Num Fires: 3622",
          "Region: South<br>Num Fires: 79230",
          "Region: South<br>Num Fires: 111277",
          "Region: South<br>Num Fires: 43239",
          "Region: South<br>Num Fires: 81315",
          "Region: South<br>Num Fires: 31154",
          "Region: South<br>Num Fires: 142021",
          "Region: South<br>Num Fires: 21833",
          "Region: South<br>Num Fires: 21967",
          "Region: West<br>Num Fires: 71586",
          "Region: West<br>Num Fires: 34157",
          "Region: West<br>Num Fires: 36698",
          "Region: West<br>Num Fires: 40767",
          "Region: West<br>Num Fires: 37478",
          "Region: West<br>Num Fires: 16956",
          "Region: West<br>Num Fires: 30725",
          "Region: West<br>Num Fires: 14166"
         ],
         "type": "scattergeo",
         "uid": "b4ffea6c-fac3-4b80-b043-c7e0bcec1963"
        }
       ],
       "layout": {
        "geo": {
         "countrycolor": "rgb(255, 255, 255)",
         "countrywidth": 1,
         "landcolor": "rgb(217, 217, 217)",
         "projection": {
          "type": "albers usa"
         },
         "scope": "usa",
         "showland": true,
         "subunitcolor": "rgb(255, 255, 255)",
         "subunitwidth": 1
        },
        "showlegend": true,
        "title": {
         "text": "Total Number of Fires from 1992-2015 per State"
        }
       }
      },
      "text/html": [
       "<div id=\"fd82300c-b420-4e3c-844e-76a84cbe69ea\" style=\"height: 525px; width: 100%;\" class=\"plotly-graph-div\"></div><script type=\"text/javascript\">require([\"plotly\"], function(Plotly) { window.PLOTLYENV=window.PLOTLYENV || {};window.PLOTLYENV.BASE_URL=\"https://plot.ly\";\n",
       "if (document.getElementById(\"fd82300c-b420-4e3c-844e-76a84cbe69ea\")) {\n",
       "    Plotly.newPlot(\"fd82300c-b420-4e3c-844e-76a84cbe69ea\", [{\"locationmode\": \"USA-states\", \"locations\": [\"IA\", \"IL\", \"IN\", \"KS\", \"MI\", \"MN\", \"MO\", \"ND\", \"NE\", \"OH\", \"SD\", \"WI\", \"CT\", \"MA\", \"ME\", \"NH\", \"NJ\", \"NY\", \"PA\", \"RI\", \"VT\", \"AK\", \"CA\", \"HI\", \"OR\", \"WA\", \"AL\", \"AR\", \"DC\", \"DE\", \"FL\", \"GA\", \"KY\", \"LA\", \"MD\", \"MS\", \"NC\", \"OK\", \"SC\", \"TN\", \"TX\", \"VA\", \"WV\", \"AZ\", \"CO\", \"ID\", \"MT\", \"NM\", \"NV\", \"UT\", \"WY\"], \"marker\": {\"color\": [4134, 2327, 2098, 7673, 10502, 44769, 17953, 15201, 7973, 3479, 30963, 31861, 4976, 2626, 13150, 2452, 25949, 80870, 8712, 480, 456, 12843, 189550, 9895, 61088, 33513, 66570, 31663, 66, 171, 90261, 168867, 27089, 30013, 3622, 79230, 111277, 43239, 81315, 31154, 142021, 21833, 21967, 71586, 34157, 36698, 40767, 37478, 16956, 30725, 14166], \"colorscale\": \"Bluered\", \"line\": {\"color\": \"rgb(40,40,40)\", \"width\": 0.5}, \"size\": [27.56, 15.513333333333334, 13.986666666666666, 51.153333333333336, 70.01333333333334, 298.46, 119.68666666666667, 101.34, 53.153333333333336, 23.19333333333333, 206.42, 212.40666666666667, 33.17333333333333, 17.506666666666668, 87.66666666666667, 16.346666666666668, 172.99333333333334, 539.1333333333333, 58.08, 3.2, 3.04, 85.62, 1263.6666666666667, 65.96666666666667, 407.25333333333333, 223.42, 443.8, 211.08666666666667, 0.44, 1.14, 601.74, 1125.78, 180.59333333333333, 200.08666666666667, 24.14666666666667, 528.2, 741.8466666666667, 288.26, 542.1, 207.69333333333333, 946.8066666666666, 145.55333333333334, 146.44666666666666, 477.24, 227.71333333333334, 244.65333333333334, 271.78, 249.85333333333332, 113.04, 204.83333333333334, 94.44], \"sizemode\": \"area\"}, \"name\": \"Number of Fires\", \"text\": [\"Region: Midwest<br>Num Fires: 4134\", \"Region: Midwest<br>Num Fires: 2327\", \"Region: Midwest<br>Num Fires: 2098\", \"Region: Midwest<br>Num Fires: 7673\", \"Region: Midwest<br>Num Fires: 10502\", \"Region: Midwest<br>Num Fires: 44769\", \"Region: Midwest<br>Num Fires: 17953\", \"Region: Midwest<br>Num Fires: 15201\", \"Region: Midwest<br>Num Fires: 7973\", \"Region: Midwest<br>Num Fires: 3479\", \"Region: Midwest<br>Num Fires: 30963\", \"Region: Midwest<br>Num Fires: 31861\", \"Region: Northeast<br>Num Fires: 4976\", \"Region: Northeast<br>Num Fires: 2626\", \"Region: Northeast<br>Num Fires: 13150\", \"Region: Northeast<br>Num Fires: 2452\", \"Region: Northeast<br>Num Fires: 25949\", \"Region: Northeast<br>Num Fires: 80870\", \"Region: Northeast<br>Num Fires: 8712\", \"Region: Northeast<br>Num Fires: 480\", \"Region: Northeast<br>Num Fires: 456\", \"Region: Pacific<br>Num Fires: 12843\", \"Region: Pacific<br>Num Fires: 189550\", \"Region: Pacific<br>Num Fires: 9895\", \"Region: Pacific<br>Num Fires: 61088\", \"Region: Pacific<br>Num Fires: 33513\", \"Region: South<br>Num Fires: 66570\", \"Region: South<br>Num Fires: 31663\", \"Region: South<br>Num Fires: 66\", \"Region: South<br>Num Fires: 171\", \"Region: South<br>Num Fires: 90261\", \"Region: South<br>Num Fires: 168867\", \"Region: South<br>Num Fires: 27089\", \"Region: South<br>Num Fires: 30013\", \"Region: South<br>Num Fires: 3622\", \"Region: South<br>Num Fires: 79230\", \"Region: South<br>Num Fires: 111277\", \"Region: South<br>Num Fires: 43239\", \"Region: South<br>Num Fires: 81315\", \"Region: South<br>Num Fires: 31154\", \"Region: South<br>Num Fires: 142021\", \"Region: South<br>Num Fires: 21833\", \"Region: South<br>Num Fires: 21967\", \"Region: West<br>Num Fires: 71586\", \"Region: West<br>Num Fires: 34157\", \"Region: West<br>Num Fires: 36698\", \"Region: West<br>Num Fires: 40767\", \"Region: West<br>Num Fires: 37478\", \"Region: West<br>Num Fires: 16956\", \"Region: West<br>Num Fires: 30725\", \"Region: West<br>Num Fires: 14166\"], \"type\": \"scattergeo\", \"uid\": \"b4ffea6c-fac3-4b80-b043-c7e0bcec1963\"}], {\"geo\": {\"countrycolor\": \"rgb(255, 255, 255)\", \"countrywidth\": 1, \"landcolor\": \"rgb(217, 217, 217)\", \"projection\": {\"type\": \"albers usa\"}, \"scope\": \"usa\", \"showland\": true, \"subunitcolor\": \"rgb(255, 255, 255)\", \"subunitwidth\": 1}, \"showlegend\": true, \"title\": {\"text\": \"Total Number of Fires from 1992-2015 per State\"}}, {\"showLink\": false, \"linkText\": \"Export to plot.ly\", \"plotlyServerURL\": \"https://plot.ly\"}); \n",
       "}\n",
       "});</script><script type=\"text/javascript\">window.addEventListener(\"resize\", function(){if (document.getElementById(\"fd82300c-b420-4e3c-844e-76a84cbe69ea\")) {window._Plotly.Plots.resize(document.getElementById(\"fd82300c-b420-4e3c-844e-76a84cbe69ea\"));};})</script>"
      ],
      "text/vnd.plotly.v1+html": [
       "<div id=\"fd82300c-b420-4e3c-844e-76a84cbe69ea\" style=\"height: 525px; width: 100%;\" class=\"plotly-graph-div\"></div><script type=\"text/javascript\">require([\"plotly\"], function(Plotly) { window.PLOTLYENV=window.PLOTLYENV || {};window.PLOTLYENV.BASE_URL=\"https://plot.ly\";\n",
       "if (document.getElementById(\"fd82300c-b420-4e3c-844e-76a84cbe69ea\")) {\n",
       "    Plotly.newPlot(\"fd82300c-b420-4e3c-844e-76a84cbe69ea\", [{\"locationmode\": \"USA-states\", \"locations\": [\"IA\", \"IL\", \"IN\", \"KS\", \"MI\", \"MN\", \"MO\", \"ND\", \"NE\", \"OH\", \"SD\", \"WI\", \"CT\", \"MA\", \"ME\", \"NH\", \"NJ\", \"NY\", \"PA\", \"RI\", \"VT\", \"AK\", \"CA\", \"HI\", \"OR\", \"WA\", \"AL\", \"AR\", \"DC\", \"DE\", \"FL\", \"GA\", \"KY\", \"LA\", \"MD\", \"MS\", \"NC\", \"OK\", \"SC\", \"TN\", \"TX\", \"VA\", \"WV\", \"AZ\", \"CO\", \"ID\", \"MT\", \"NM\", \"NV\", \"UT\", \"WY\"], \"marker\": {\"color\": [4134, 2327, 2098, 7673, 10502, 44769, 17953, 15201, 7973, 3479, 30963, 31861, 4976, 2626, 13150, 2452, 25949, 80870, 8712, 480, 456, 12843, 189550, 9895, 61088, 33513, 66570, 31663, 66, 171, 90261, 168867, 27089, 30013, 3622, 79230, 111277, 43239, 81315, 31154, 142021, 21833, 21967, 71586, 34157, 36698, 40767, 37478, 16956, 30725, 14166], \"colorscale\": \"Bluered\", \"line\": {\"color\": \"rgb(40,40,40)\", \"width\": 0.5}, \"size\": [27.56, 15.513333333333334, 13.986666666666666, 51.153333333333336, 70.01333333333334, 298.46, 119.68666666666667, 101.34, 53.153333333333336, 23.19333333333333, 206.42, 212.40666666666667, 33.17333333333333, 17.506666666666668, 87.66666666666667, 16.346666666666668, 172.99333333333334, 539.1333333333333, 58.08, 3.2, 3.04, 85.62, 1263.6666666666667, 65.96666666666667, 407.25333333333333, 223.42, 443.8, 211.08666666666667, 0.44, 1.14, 601.74, 1125.78, 180.59333333333333, 200.08666666666667, 24.14666666666667, 528.2, 741.8466666666667, 288.26, 542.1, 207.69333333333333, 946.8066666666666, 145.55333333333334, 146.44666666666666, 477.24, 227.71333333333334, 244.65333333333334, 271.78, 249.85333333333332, 113.04, 204.83333333333334, 94.44], \"sizemode\": \"area\"}, \"name\": \"Number of Fires\", \"text\": [\"Region: Midwest<br>Num Fires: 4134\", \"Region: Midwest<br>Num Fires: 2327\", \"Region: Midwest<br>Num Fires: 2098\", \"Region: Midwest<br>Num Fires: 7673\", \"Region: Midwest<br>Num Fires: 10502\", \"Region: Midwest<br>Num Fires: 44769\", \"Region: Midwest<br>Num Fires: 17953\", \"Region: Midwest<br>Num Fires: 15201\", \"Region: Midwest<br>Num Fires: 7973\", \"Region: Midwest<br>Num Fires: 3479\", \"Region: Midwest<br>Num Fires: 30963\", \"Region: Midwest<br>Num Fires: 31861\", \"Region: Northeast<br>Num Fires: 4976\", \"Region: Northeast<br>Num Fires: 2626\", \"Region: Northeast<br>Num Fires: 13150\", \"Region: Northeast<br>Num Fires: 2452\", \"Region: Northeast<br>Num Fires: 25949\", \"Region: Northeast<br>Num Fires: 80870\", \"Region: Northeast<br>Num Fires: 8712\", \"Region: Northeast<br>Num Fires: 480\", \"Region: Northeast<br>Num Fires: 456\", \"Region: Pacific<br>Num Fires: 12843\", \"Region: Pacific<br>Num Fires: 189550\", \"Region: Pacific<br>Num Fires: 9895\", \"Region: Pacific<br>Num Fires: 61088\", \"Region: Pacific<br>Num Fires: 33513\", \"Region: South<br>Num Fires: 66570\", \"Region: South<br>Num Fires: 31663\", \"Region: South<br>Num Fires: 66\", \"Region: South<br>Num Fires: 171\", \"Region: South<br>Num Fires: 90261\", \"Region: South<br>Num Fires: 168867\", \"Region: South<br>Num Fires: 27089\", \"Region: South<br>Num Fires: 30013\", \"Region: South<br>Num Fires: 3622\", \"Region: South<br>Num Fires: 79230\", \"Region: South<br>Num Fires: 111277\", \"Region: South<br>Num Fires: 43239\", \"Region: South<br>Num Fires: 81315\", \"Region: South<br>Num Fires: 31154\", \"Region: South<br>Num Fires: 142021\", \"Region: South<br>Num Fires: 21833\", \"Region: South<br>Num Fires: 21967\", \"Region: West<br>Num Fires: 71586\", \"Region: West<br>Num Fires: 34157\", \"Region: West<br>Num Fires: 36698\", \"Region: West<br>Num Fires: 40767\", \"Region: West<br>Num Fires: 37478\", \"Region: West<br>Num Fires: 16956\", \"Region: West<br>Num Fires: 30725\", \"Region: West<br>Num Fires: 14166\"], \"type\": \"scattergeo\", \"uid\": \"b4ffea6c-fac3-4b80-b043-c7e0bcec1963\"}], {\"geo\": {\"countrycolor\": \"rgb(255, 255, 255)\", \"countrywidth\": 1, \"landcolor\": \"rgb(217, 217, 217)\", \"projection\": {\"type\": \"albers usa\"}, \"scope\": \"usa\", \"showland\": true, \"subunitcolor\": \"rgb(255, 255, 255)\", \"subunitwidth\": 1}, \"showlegend\": true, \"title\": {\"text\": \"Total Number of Fires from 1992-2015 per State\"}}, {\"showLink\": false, \"linkText\": \"Export to plot.ly\", \"plotlyServerURL\": \"https://plot.ly\"}); \n",
       "}\n",
       "});</script><script type=\"text/javascript\">window.addEventListener(\"resize\", function(){if (document.getElementById(\"fd82300c-b420-4e3c-844e-76a84cbe69ea\")) {window._Plotly.Plots.resize(document.getElementById(\"fd82300c-b420-4e3c-844e-76a84cbe69ea\"));};})</script>"
      ]
     },
     "metadata": {},
     "output_type": "display_data"
    }
   ],
   "source": [
    "fires_per_state = fires.groupby(['REGION', 'STATE']).size().reset_index().rename({0: 'count'}, axis=1)\n",
    "text = [f\"Region: {region}<br>Num Fires: {count}\"\n",
    "        for region, state, count in fires_per_state.values]\n",
    "\n",
    "scale = 150\n",
    "\n",
    "data = [go.Scattergeo(\n",
    "            locationmode = 'USA-states',\n",
    "            locations = fires_per_state['STATE'],\n",
    "            text=text,\n",
    "            marker = go.scattergeo.Marker(\n",
    "                size = fires_per_state['count']/scale,\n",
    "                line = go.scattergeo.marker.Line(\n",
    "                    width=0.5, color='rgb(40,40,40)'\n",
    "                ),\n",
    "                color=fires_per_state['count'],\n",
    "                colorscale='Bluered',\n",
    "                sizemode = 'area'\n",
    "            ),\n",
    "            name='Number of Fires'\n",
    "        )]\n",
    "\n",
    "layout = go.Layout(\n",
    "        title = go.layout.Title(\n",
    "            text = 'Total Number of Fires from 1992-2015 per State'\n",
    "        ),\n",
    "        showlegend = True,\n",
    "        geo = go.layout.Geo(\n",
    "            scope = 'usa',\n",
    "            projection = go.layout.geo.Projection(\n",
    "                type='albers usa'\n",
    "            ),\n",
    "            showland = True,\n",
    "            landcolor = 'rgb(217, 217, 217)',\n",
    "            subunitwidth=1,\n",
    "            countrywidth=1,\n",
    "            subunitcolor=\"rgb(255, 255, 255)\",\n",
    "            countrycolor=\"rgb(255, 255, 255)\"\n",
    "        )\n",
    "    )\n",
    "\n",
    "fig = go.Figure(data=data, layout=layout)\n",
    "iplot(fig)"
   ]
  },
  {
   "cell_type": "markdown",
   "metadata": {},
   "source": [
    "# 8.) Treemap of number of fires per census region"
   ]
  },
  {
   "cell_type": "code",
   "execution_count": 14,
   "metadata": {
    "ExecuteTime": {
     "end_time": "2019-05-16T22:46:08.467041Z",
     "start_time": "2019-05-16T22:46:08.036147Z"
    },
    "scrolled": false
   },
   "outputs": [
    {
     "data": {
      "image/png": "[encoded data removed]",
      "text/plain": [
       "<Figure size 936x432 with 2 Axes>"
      ]
     },
     "metadata": {
      "needs_background": "light"
     },
     "output_type": "display_data"
    }
   ],
   "source": [
    "import squarify\n",
    "fig, ax = plt.subplots(ncols=2, figsize=(13, 6))\n",
    "\n",
    "fire_size_per_region = fires.groupby('REGION')['FIRE_SIZE'].sum().reset_index()\n",
    "fire_size_per_region.sort_values('REGION', inplace=True)\n",
    "fire_size_per_region['text'] = (fire_size_per_region['FIRE_SIZE'] / 1000).astype(int).astype(str) + '$*10^3$'\n",
    "\n",
    "squarify.plot(sizes=fire_size_per_region['FIRE_SIZE'], label=fire_size_per_region['REGION'], color=colors, alpha=.7,\n",
    "              value=fire_size_per_region['text'], ax=ax[0], text_kwargs={'size': 14})\n",
    "ax[0].axis('off')\n",
    "ax[0].set_title(\"Total acres of fire (1992-2015)\")\n",
    "\n",
    "fires_per_region = fires.groupby('REGION').size().reset_index().rename({0: 'num_fires'}, axis=1)\n",
    "fires_per_region.sort_values('REGION', inplace=True)\n",
    "fires_per_region['text'] = (fires_per_region['num_fires'] / 1000).astype(int).astype(str) + '$*10^3$'\n",
    "\n",
    "squarify.plot(sizes=fires_per_region['num_fires'], label=fires_per_region['REGION'], color=colors, alpha=.7,\n",
    "              value=fires_per_region['text'], ax=ax[1], text_kwargs={'size': 14})\n",
    "ax[1].axis('off')\n",
    "ax[1].set_title(\"Total number of fires (1992-2015)\")\n",
    "plt.show()"
   ]
  },
  {
   "cell_type": "markdown",
   "metadata": {},
   "source": [
    "# 9.) Connection map."
   ]
  },
  {
   "cell_type": "code",
   "execution_count": 15,
   "metadata": {
    "ExecuteTime": {
     "end_time": "2019-05-16T22:46:08.563002Z",
     "start_time": "2019-05-16T22:46:08.468428Z"
    }
   },
   "outputs": [],
   "source": [
    "state_lat_lon = pd.read_csv('statelatlong.csv').rename({'State': 'STATE'}, axis=1)\n",
    "\n",
    "big_fires = fires[fires['FIRE_SIZE_CLASS'].isin(list(\"FG\"))]\n",
    "big_fires_per_state = big_fires.groupby(['STATE']).size().reset_index().rename({0: 'num_fires'}, axis=1)\n",
    "\n",
    "big_fires_per_state = big_fires_per_state.merge(state_lat_lon, on=\"STATE\").sort_values('num_fires', ascending=False)\n",
    "\n",
    "big_fires_per_state = pd.concat([big_fires_per_state,\n",
    "                                big_fires_per_state[['Latitude', 'Longitude']]\n",
    "                                    .shift()\n",
    "                                    .rename({'Latitude': \"End_Latitude\",\n",
    "                                             'Longitude': \"End_Longitude\"}, axis=1)],\n",
    "                                axis=1)\n",
    "                            "
   ]
  },
  {
   "cell_type": "code",
   "execution_count": 16,
   "metadata": {
    "ExecuteTime": {
     "end_time": "2019-05-16T22:46:08.853463Z",
     "start_time": "2019-05-16T22:46:08.564220Z"
    }
   },
   "outputs": [
    {
     "data": {
      "application/vnd.plotly.v1+json": {
       "config": {
        "linkText": "Export to plot.ly",
        "plotlyServerURL": "https://plot.ly",
        "showLink": false
       },
       "data": [
        {
         "lat": [
          61.3025006,
          45.4945756
         ],
         "line": {
          "color": "red",
          "width": 2
         },
         "locationmode": "USA-states",
         "lon": [
          -158.7750198,
          -114.1424303
         ],
         "mode": "lines",
         "opacity": 0.9243478260869565,
         "type": "scattergeo",
         "uid": "4a193463-9d1b-4b42-8a24-fa88ccbecb4d"
        },
        {
         "lat": [
          32.601011199999995,
          32.5851062
         ],
         "line": {
          "color": "red",
          "width": 2
         },
         "locationmode": "USA-states",
         "lon": [
          -86.6807365,
          -89.8772196
         ],
         "mode": "lines",
         "opacity": 0.028695652173913042,
         "type": "scattergeo",
         "uid": "e0df849c-c6ce-41f2-9422-60dbbc917da9"
        },
        {
         "lat": [
          34.7519275,
          32.601011199999995
         ],
         "line": {
          "color": "red",
          "width": 2
         },
         "locationmode": "USA-states",
         "lon": [
          -92.13137840000002,
          -86.6807365
         ],
         "mode": "lines",
         "opacity": 0.026956521739130435,
         "type": "scattergeo",
         "uid": "645bb575-880e-4c45-ad9c-8a8c71c60210"
        },
        {
         "lat": [
          34.1682185,
          46.6797995
         ],
         "line": {
          "color": "red",
          "width": 2
         },
         "locationmode": "USA-states",
         "lon": [
          -111.930907,
          -110.04478300000001
         ],
         "mode": "lines",
         "opacity": 0.5121739130434783,
         "type": "scattergeo",
         "uid": "04be9484-6aec-43b7-ab3c-a07bf6b7650e"
        },
        {
         "lat": [
          37.2718745,
          null
         ],
         "line": {
          "color": "red",
          "width": 2
         },
         "locationmode": "USA-states",
         "lon": [
          -119.2704153,
          null
         ],
         "mode": "lines",
         "opacity": 1,
         "type": "scattergeo",
         "uid": "98d33c37-5f9a-4d30-accc-dc6a051892bb"
        },
        {
         "lat": [
          38.9979339,
          44.2126995
         ],
         "line": {
          "color": "red",
          "width": 2
         },
         "locationmode": "USA-states",
         "lon": [
          -105.55056699999999,
          -100.24716409999999
         ],
         "mode": "lines",
         "opacity": 0.1991304347826087,
         "type": "scattergeo",
         "uid": "3a869173-57bb-4124-b986-7342415116bc"
        },
        {
         "lat": [
          41.518783500000005,
          40.1903624
         ],
         "line": {
          "color": "red",
          "width": 2
         },
         "locationmode": "USA-states",
         "lon": [
          -72.75750699999999,
          -82.6692525
         ],
         "mode": "lines",
         "opacity": 0.0008695652173913044,
         "type": "scattergeo",
         "uid": "840b171f-0e25-4408-aaf7-6422c19af79b"
        },
        {
         "lat": [
          39.145251,
          40.7056258
         ],
         "line": {
          "color": "red",
          "width": 2
         },
         "locationmode": "USA-states",
         "lon": [
          -75.41892059999999,
          -73.97968
         ],
         "mode": "lines",
         "opacity": 0.0017391304347826088,
         "type": "scattergeo",
         "uid": "cc669314-19eb-4490-a200-2d73ed99b4b5"
        },
        {
         "lat": [
          27.9757279,
          34.1682185
         ],
         "line": {
          "color": "red",
          "width": 2
         },
         "locationmode": "USA-states",
         "lon": [
          -83.8330166,
          -111.930907
         ],
         "mode": "lines",
         "opacity": 0.46260869565217394,
         "type": "scattergeo",
         "uid": "310ec403-0dc1-43f7-b264-e91afc1fe85a"
        },
        {
         "lat": [
          32.6781248,
          20.46
         ],
         "line": {
          "color": "red",
          "width": 2
         },
         "locationmode": "USA-states",
         "lon": [
          -83.22297569999999,
          -157.505
         ],
         "mode": "lines",
         "opacity": 0.04434782608695652,
         "type": "scattergeo",
         "uid": "cb05e797-7edf-4d8b-bab7-6d1bb9e13b34"
        },
        {
         "lat": [
          20.46,
          47.467881899999995
         ],
         "line": {
          "color": "red",
          "width": 2
         },
         "locationmode": "USA-states",
         "lon": [
          -157.505,
          -100.3022655
         ],
         "mode": "lines",
         "opacity": 0.049565217391304345,
         "type": "scattergeo",
         "uid": "67a03be6-0353-43f7-b544-ef7815f3ea10"
        },
        {
         "lat": [
          41.9383166,
          44.7862968
         ],
         "line": {
          "color": "red",
          "width": 2
         },
         "locationmode": "USA-states",
         "lon": [
          -93.389798,
          -89.82670490000001
         ],
         "mode": "lines",
         "opacity": 0.004347826086956522,
         "type": "scattergeo",
         "uid": "b743cc45-cec9-4492-af84-7c6f4b59d038"
        },
        {
         "lat": [
          45.4945756,
          37.2718745
         ],
         "line": {
          "color": "red",
          "width": 2
         },
         "locationmode": "USA-states",
         "lon": [
          -114.1424303,
          -119.2704153
         ],
         "mode": "lines",
         "opacity": 0.9452173913043478,
         "type": "scattergeo",
         "uid": "3efb10de-347e-44dc-8fd6-605125c9059c"
        },
        {
         "lat": [
          39.739318,
          39.145251
         ],
         "line": {
          "color": "red",
          "width": 2
         },
         "locationmode": "USA-states",
         "lon": [
          -89.504139,
          -75.41892059999999
         ],
         "mode": "lines",
         "opacity": 0.0017391304347826088,
         "type": "scattergeo",
         "uid": "fe71df55-3d55-4cb2-a9ab-986e2b4d4a72"
        },
        {
         "lat": [
          39.7662195,
          45.2185133
         ],
         "line": {
          "color": "red",
          "width": 2
         },
         "locationmode": "USA-states",
         "lon": [
          -86.441277,
          -69.0148656
         ],
         "mode": "lines",
         "opacity": 0.0008695652173913044,
         "type": "scattergeo",
         "uid": "e6f7d2aa-afef-4200-8dc5-ab8886601027"
        },
        {
         "lat": [
          38.4987789,
          38.9979339
         ],
         "line": {
          "color": "red",
          "width": 2
         },
         "locationmode": "USA-states",
         "lon": [
          -98.32007790000002,
          -105.55056699999999
         ],
         "mode": "lines",
         "opacity": 0.1408695652173913,
         "type": "scattergeo",
         "uid": "e827cb78-96ed-47b3-83b2-b689a658a7e7"
        },
        {
         "lat": [
          37.8222935,
          46.4418595
         ],
         "line": {
          "color": "red",
          "width": 2
         },
         "locationmode": "USA-states",
         "lon": [
          -85.76823990000001,
          -93.3655146
         ],
         "mode": "lines",
         "opacity": 0.09826086956521739,
         "type": "scattergeo",
         "uid": "218810e4-0ab7-489f-b5e2-99d8615e8e46"
        },
        {
         "lat": [
          30.9733766,
          41.5008195
         ],
         "line": {
          "color": "red",
          "width": 2
         },
         "locationmode": "USA-states",
         "lon": [
          -91.42990970000001,
          -99.680902
         ],
         "mode": "lines",
         "opacity": 0.0791304347826087,
         "type": "scattergeo",
         "uid": "fb7e0d43-7e5e-4237-9ec6-addc978cf0b2"
        },
        {
         "lat": [
          38.806352399999994,
          44.9435598
         ],
         "line": {
          "color": "red",
          "width": 2
         },
         "locationmode": "USA-states",
         "lon": [
          -77.2684162,
          -86.41580490000001
         ],
         "mode": "lines",
         "opacity": 0.011304347826086957,
         "type": "scattergeo",
         "uid": "8204f6b0-ee61-4100-976a-e74b98bdcc13"
        },
        {
         "lat": [
          45.2185133,
          41.518783500000005
         ],
         "line": {
          "color": "red",
          "width": 2
         },
         "locationmode": "USA-states",
         "lon": [
          -69.0148656,
          -72.75750699999999
         ],
         "mode": "lines",
         "opacity": 0.0008695652173913044,
         "type": "scattergeo",
         "uid": "bbf49a4f-8399-410f-b77a-edc802f8c5e9"
        },
        {
         "lat": [
          44.9435598,
          33.62505
         ],
         "line": {
          "color": "red",
          "width": 2
         },
         "locationmode": "USA-states",
         "lon": [
          -86.41580490000001,
          -80.9470381
         ],
         "mode": "lines",
         "opacity": 0.01217391304347826,
         "type": "scattergeo",
         "uid": "264549e1-a027-40c8-8d56-d36955461c6e"
        },
        {
         "lat": [
          46.4418595,
          38.4987789
         ],
         "line": {
          "color": "red",
          "width": 2
         },
         "locationmode": "USA-states",
         "lon": [
          -93.3655146,
          -98.32007790000002
         ],
         "mode": "lines",
         "opacity": 0.13478260869565217,
         "type": "scattergeo",
         "uid": "da93d613-143c-4c2b-a89f-3e38fba7cd0a"
        },
        {
         "lat": [
          38.3046615,
          34.7519275
         ],
         "line": {
          "color": "red",
          "width": 2
         },
         "locationmode": "USA-states",
         "lon": [
          -92.437099,
          -92.13137840000002
         ],
         "mode": "lines",
         "opacity": 0.023478260869565216,
         "type": "scattergeo",
         "uid": "a99b01c6-f052-4ea8-ac99-9eb0edc9d67c"
        },
        {
         "lat": [
          32.5851062,
          35.2145629
         ],
         "line": {
          "color": "red",
          "width": 2
         },
         "locationmode": "USA-states",
         "lon": [
          -89.8772196,
          -79.8912675
         ],
         "mode": "lines",
         "opacity": 0.04,
         "type": "scattergeo",
         "uid": "ffe6414d-34ac-492d-9716-0cfd18da4b90"
        },
        {
         "lat": [
          46.6797995,
          44.1419049
         ],
         "line": {
          "color": "red",
          "width": 2
         },
         "locationmode": "USA-states",
         "lon": [
          -110.04478300000001,
          -120.5380993
         ],
         "mode": "lines",
         "opacity": 0.5191304347826087,
         "type": "scattergeo",
         "uid": "eb73706c-b6aa-4a78-940b-624d99511ed2"
        },
        {
         "lat": [
          35.2145629,
          35.830521000000005
         ],
         "line": {
          "color": "red",
          "width": 2
         },
         "locationmode": "USA-states",
         "lon": [
          -79.8912675,
          -85.97859890000001
         ],
         "mode": "lines",
         "opacity": 0.04173913043478261,
         "type": "scattergeo",
         "uid": "f3f0eb38-9d47-4b07-92a8-e8f85a2c294b"
        },
        {
         "lat": [
          47.467881899999995,
          38.920170500000005
         ],
         "line": {
          "color": "red",
          "width": 2
         },
         "locationmode": "USA-states",
         "lon": [
          -100.3022655,
          -80.1816905
         ],
         "mode": "lines",
         "opacity": 0.057391304347826085,
         "type": "scattergeo",
         "uid": "30bc3876-55d4-468b-8aa8-c2802589e79d"
        },
        {
         "lat": [
          41.5008195,
          37.8222935
         ],
         "line": {
          "color": "red",
          "width": 2
         },
         "locationmode": "USA-states",
         "lon": [
          -99.680902,
          -85.76823990000001
         ],
         "mode": "lines",
         "opacity": 0.08695652173913043,
         "type": "scattergeo",
         "uid": "4a792f1f-003c-4454-b131-b11297f2bc43"
        },
        {
         "lat": [
          40.1430058,
          38.3046615
         ],
         "line": {
          "color": "red",
          "width": 2
         },
         "locationmode": "USA-states",
         "lon": [
          -74.7311156,
          -92.437099
         ],
         "mode": "lines",
         "opacity": 0.01652173913043478,
         "type": "scattergeo",
         "uid": "9d8a7fe8-9aef-45d0-a184-f3e86cf412ea"
        },
        {
         "lat": [
          34.1662325,
          31.1693363
         ],
         "line": {
          "color": "red",
          "width": 2
         },
         "locationmode": "USA-states",
         "lon": [
          -106.02606850000001,
          -100.0768425
         ],
         "mode": "lines",
         "opacity": 0.6339130434782608,
         "type": "scattergeo",
         "uid": "9851c67e-35fa-43ec-be2f-86dab01e294c"
        },
        {
         "lat": [
          38.502032,
          34.1662325
         ],
         "line": {
          "color": "red",
          "width": 2
         },
         "locationmode": "USA-states",
         "lon": [
          -117.0230604,
          -106.02606850000001
         ],
         "mode": "lines",
         "opacity": 0.6104347826086957,
         "type": "scattergeo",
         "uid": "e9252de3-57db-4f0e-8ff8-b0164b028398"
        },
        {
         "lat": [
          40.7056258,
          40.99459279999999
         ],
         "line": {
          "color": "red",
          "width": 2
         },
         "locationmode": "USA-states",
         "lon": [
          -73.97968,
          -77.6046984
         ],
         "mode": "lines",
         "opacity": 0.0034782608695652175,
         "type": "scattergeo",
         "uid": "58045771-aede-4957-bde1-21130b7e1752"
        },
        {
         "lat": [
          40.1903624,
          39.739318
         ],
         "line": {
          "color": "red",
          "width": 2
         },
         "locationmode": "USA-states",
         "lon": [
          -82.6692525,
          -89.504139
         ],
         "mode": "lines",
         "opacity": 0.0017391304347826088,
         "type": "scattergeo",
         "uid": "cf260154-fed7-4b91-bdbe-3b93b68205c3"
        },
        {
         "lat": [
          35.309765399999996,
          27.9757279
         ],
         "line": {
          "color": "red",
          "width": 2
         },
         "locationmode": "USA-states",
         "lon": [
          -98.71655849999999,
          -83.8330166
         ],
         "mode": "lines",
         "opacity": 0.44521739130434784,
         "type": "scattergeo",
         "uid": "b2fb0072-0f25-4b87-9b19-4ae6aac8a3f7"
        },
        {
         "lat": [
          44.1419049,
          38.502032
         ],
         "line": {
          "color": "red",
          "width": 2
         },
         "locationmode": "USA-states",
         "lon": [
          -120.5380993,
          -117.0230604
         ],
         "mode": "lines",
         "opacity": 0.5295652173913044,
         "type": "scattergeo",
         "uid": "d7b8370f-bd4b-40c7-8d23-0e7257bdcce2"
        },
        {
         "lat": [
          40.99459279999999,
          41.9383166
         ],
         "line": {
          "color": "red",
          "width": 2
         },
         "locationmode": "USA-states",
         "lon": [
          -77.6046984,
          -93.389798
         ],
         "mode": "lines",
         "opacity": 0.0034782608695652175,
         "type": "scattergeo",
         "uid": "72001966-ab35-4328-825f-7751869b16ad"
        },
        {
         "lat": [
          33.62505,
          40.1430058
         ],
         "line": {
          "color": "red",
          "width": 2
         },
         "locationmode": "USA-states",
         "lon": [
          -80.9470381,
          -74.7311156
         ],
         "mode": "lines",
         "opacity": 0.014782608695652174,
         "type": "scattergeo",
         "uid": "a2e54e38-0d3a-404e-97c7-1a7293584c7c"
        },
        {
         "lat": [
          44.2126995,
          43.000325
         ],
         "line": {
          "color": "red",
          "width": 2
         },
         "locationmode": "USA-states",
         "lon": [
          -100.24716409999999,
          -107.5545669
         ],
         "mode": "lines",
         "opacity": 0.22695652173913045,
         "type": "scattergeo",
         "uid": "b5d78286-08a9-4720-bef6-9b0dd2c719f4"
        },
        {
         "lat": [
          35.830521000000005,
          38.0033855
         ],
         "line": {
          "color": "red",
          "width": 2
         },
         "locationmode": "USA-states",
         "lon": [
          -85.97859890000001,
          -79.4587861
         ],
         "mode": "lines",
         "opacity": 0.04173913043478261,
         "type": "scattergeo",
         "uid": "21bd44dc-d159-4f94-9134-cfda1ad85003"
        },
        {
         "lat": [
          31.1693363,
          61.3025006
         ],
         "line": {
          "color": "red",
          "width": 2
         },
         "locationmode": "USA-states",
         "lon": [
          -100.0768425,
          -158.7750198
         ],
         "mode": "lines",
         "opacity": 0.9008695652173913,
         "type": "scattergeo",
         "uid": "8cff87cc-a247-48ee-a2e7-e34dc35cfa37"
        },
        {
         "lat": [
          39.4997605,
          35.309765399999996
         ],
         "line": {
          "color": "red",
          "width": 2
         },
         "locationmode": "USA-states",
         "lon": [
          -111.547028,
          -98.71655849999999
         ],
         "mode": "lines",
         "opacity": 0.4365217391304348,
         "type": "scattergeo",
         "uid": "d1afceb9-5aa1-4e38-850b-84b30d12eea3"
        },
        {
         "lat": [
          38.0033855,
          32.6781248
         ],
         "line": {
          "color": "red",
          "width": 2
         },
         "locationmode": "USA-states",
         "lon": [
          -79.4587861,
          -83.22297569999999
         ],
         "mode": "lines",
         "opacity": 0.042608695652173914,
         "type": "scattergeo",
         "uid": "c046d20a-2b33-4505-93cf-fea9bd0ad626"
        },
        {
         "lat": [
          38.899348700000004,
          39.4997605
         ],
         "line": {
          "color": "red",
          "width": 2
         },
         "locationmode": "USA-states",
         "lon": [
          -77.0145665,
          -111.547028
         ],
         "mode": "lines",
         "opacity": 0.3417391304347826,
         "type": "scattergeo",
         "uid": "f8b12d6b-ce5a-47b2-bee2-af9e6c48592f"
        },
        {
         "lat": [
          44.7862968,
          38.806352399999994
         ],
         "line": {
          "color": "red",
          "width": 2
         },
         "locationmode": "USA-states",
         "lon": [
          -89.82670490000001,
          -77.2684162
         ],
         "mode": "lines",
         "opacity": 0.006956521739130435,
         "type": "scattergeo",
         "uid": "9dc839a0-3785-4b76-a5d9-86014099333b"
        },
        {
         "lat": [
          38.920170500000005,
          30.9733766
         ],
         "line": {
          "color": "red",
          "width": 2
         },
         "locationmode": "USA-states",
         "lon": [
          -80.1816905,
          -91.42990970000001
         ],
         "mode": "lines",
         "opacity": 0.06956521739130435,
         "type": "scattergeo",
         "uid": "4dd60640-8329-468f-9c2b-bd893065733e"
        },
        {
         "lat": [
          43.000325,
          38.899348700000004
         ],
         "line": {
          "color": "red",
          "width": 2
         },
         "locationmode": "USA-states",
         "lon": [
          -107.5545669,
          -77.0145665
         ],
         "mode": "lines",
         "opacity": 0.26869565217391306,
         "type": "scattergeo",
         "uid": "e6cfa98b-41cc-4b15-849b-4bd251184f86"
        },
        {
         "hoverinfo": "text",
         "lat": [
          37.2718745,
          45.4945756,
          61.3025006,
          31.1693363,
          34.1662325,
          38.502032,
          44.1419049,
          46.6797995,
          34.1682185,
          27.9757279,
          35.309765399999996,
          39.4997605,
          38.899348700000004,
          43.000325,
          44.2126995,
          38.9979339,
          38.4987789,
          46.4418595,
          37.8222935,
          41.5008195,
          30.9733766,
          38.920170500000005,
          47.467881899999995,
          20.46,
          32.6781248,
          38.0033855,
          35.830521000000005,
          35.2145629,
          32.5851062,
          32.601011199999995,
          34.7519275,
          38.3046615,
          40.1430058,
          33.62505,
          44.9435598,
          38.806352399999994,
          44.7862968,
          41.9383166,
          40.99459279999999,
          40.7056258,
          39.145251,
          39.739318,
          40.1903624,
          41.518783500000005,
          45.2185133,
          39.7662195
         ],
         "locationmode": "USA-states",
         "lon": [
          -119.2704153,
          -114.1424303,
          -158.7750198,
          -100.0768425,
          -106.02606850000001,
          -117.0230604,
          -120.5380993,
          -110.04478300000001,
          -111.930907,
          -83.8330166,
          -98.71655849999999,
          -111.547028,
          -77.0145665,
          -107.5545669,
          -100.24716409999999,
          -105.55056699999999,
          -98.32007790000002,
          -93.3655146,
          -85.76823990000001,
          -99.680902,
          -91.42990970000001,
          -80.1816905,
          -100.3022655,
          -157.505,
          -83.22297569999999,
          -79.4587861,
          -85.97859890000001,
          -79.8912675,
          -89.8772196,
          -86.6807365,
          -92.13137840000002,
          -92.437099,
          -74.7311156,
          -80.9470381,
          -86.41580490000001,
          -77.2684162,
          -89.82670490000001,
          -93.389798,
          -77.6046984,
          -73.97968,
          -75.41892059999999,
          -89.504139,
          -82.6692525,
          -72.75750699999999,
          -69.0148656,
          -86.441277
         ],
         "marker": {
          "color": "rgb(255, 0, 0)",
          "line": {
           "color": "rgba(68, 68, 68, 0)",
           "width": 3
          },
          "size": 3
         },
         "mode": "markers",
         "text": [
          "State: CA<br>Number of Fires: 1150",
          "State: ID<br>Number of Fires: 1087",
          "State: AK<br>Number of Fires: 1063",
          "State: TX<br>Number of Fires: 1036",
          "State: NM<br>Number of Fires: 729",
          "State: NV<br>Number of Fires: 702",
          "State: OR<br>Number of Fires: 609",
          "State: MT<br>Number of Fires: 597",
          "State: AZ<br>Number of Fires: 589",
          "State: FL<br>Number of Fires: 532",
          "State: OK<br>Number of Fires: 512",
          "State: UT<br>Number of Fires: 502",
          "State: WA<br>Number of Fires: 393",
          "State: WY<br>Number of Fires: 309",
          "State: SD<br>Number of Fires: 261",
          "State: CO<br>Number of Fires: 229",
          "State: KS<br>Number of Fires: 162",
          "State: MN<br>Number of Fires: 155",
          "State: KY<br>Number of Fires: 113",
          "State: NE<br>Number of Fires: 100",
          "State: LA<br>Number of Fires: 91",
          "State: WV<br>Number of Fires: 80",
          "State: ND<br>Number of Fires: 66",
          "State: HI<br>Number of Fires: 57",
          "State: GA<br>Number of Fires: 51",
          "State: VA<br>Number of Fires: 49",
          "State: TN<br>Number of Fires: 48",
          "State: NC<br>Number of Fires: 48",
          "State: MS<br>Number of Fires: 46",
          "State: AL<br>Number of Fires: 33",
          "State: AR<br>Number of Fires: 31",
          "State: MO<br>Number of Fires: 27",
          "State: NJ<br>Number of Fires: 19",
          "State: SC<br>Number of Fires: 17",
          "State: MI<br>Number of Fires: 14",
          "State: MD<br>Number of Fires: 13",
          "State: WI<br>Number of Fires: 8",
          "State: IA<br>Number of Fires: 5",
          "State: PA<br>Number of Fires: 4",
          "State: NY<br>Number of Fires: 4",
          "State: DE<br>Number of Fires: 2",
          "State: IL<br>Number of Fires: 2",
          "State: OH<br>Number of Fires: 2",
          "State: CT<br>Number of Fires: 1",
          "State: ME<br>Number of Fires: 1",
          "State: IN<br>Number of Fires: 1"
         ],
         "type": "scattergeo",
         "uid": "8bffd4a2-b81a-4cf9-a87a-96f5174f9414"
        }
       ],
       "layout": {
        "geo": {
         "countrycolor": "rgb(204, 204, 204)",
         "landcolor": "rgb(243, 243, 243)",
         "projection": {
          "type": "albers usa"
         },
         "scope": "usa",
         "showland": true
        },
        "showlegend": false,
        "title": {
         "text": "US States ranked by number of class F and G wildfires (1992-2016)"
        }
       }
      },
      "text/html": [
       "<div id=\"9bac3124-6ca3-4e29-8c64-8f02187c787f\" style=\"height: 525px; width: 100%;\" class=\"plotly-graph-div\"></div><script type=\"text/javascript\">require([\"plotly\"], function(Plotly) { window.PLOTLYENV=window.PLOTLYENV || {};window.PLOTLYENV.BASE_URL=\"https://plot.ly\";\n",
       "if (document.getElementById(\"9bac3124-6ca3-4e29-8c64-8f02187c787f\")) {\n",
       "    Plotly.newPlot(\"9bac3124-6ca3-4e29-8c64-8f02187c787f\", [{\"lat\": [61.3025006, 45.4945756], \"line\": {\"color\": \"red\", \"width\": 2}, \"locationmode\": \"USA-states\", \"lon\": [-158.7750198, -114.1424303], \"mode\": \"lines\", \"opacity\": 0.9243478260869565, \"type\": \"scattergeo\", \"uid\": \"4a193463-9d1b-4b42-8a24-fa88ccbecb4d\"}, {\"lat\": [32.601011199999995, 32.5851062], \"line\": {\"color\": \"red\", \"width\": 2}, \"locationmode\": \"USA-states\", \"lon\": [-86.6807365, -89.8772196], \"mode\": \"lines\", \"opacity\": 0.028695652173913042, \"type\": \"scattergeo\", \"uid\": \"e0df849c-c6ce-41f2-9422-60dbbc917da9\"}, {\"lat\": [34.7519275, 32.601011199999995], \"line\": {\"color\": \"red\", \"width\": 2}, \"locationmode\": \"USA-states\", \"lon\": [-92.13137840000002, -86.6807365], \"mode\": \"lines\", \"opacity\": 0.026956521739130435, \"type\": \"scattergeo\", \"uid\": \"645bb575-880e-4c45-ad9c-8a8c71c60210\"}, {\"lat\": [34.1682185, 46.6797995], \"line\": {\"color\": \"red\", \"width\": 2}, \"locationmode\": \"USA-states\", \"lon\": [-111.930907, -110.04478300000001], \"mode\": \"lines\", \"opacity\": 0.5121739130434783, \"type\": \"scattergeo\", \"uid\": \"04be9484-6aec-43b7-ab3c-a07bf6b7650e\"}, {\"lat\": [37.2718745, null], \"line\": {\"color\": \"red\", \"width\": 2}, \"locationmode\": \"USA-states\", \"lon\": [-119.2704153, null], \"mode\": \"lines\", \"opacity\": 1.0, \"type\": \"scattergeo\", \"uid\": \"98d33c37-5f9a-4d30-accc-dc6a051892bb\"}, {\"lat\": [38.9979339, 44.2126995], \"line\": {\"color\": \"red\", \"width\": 2}, \"locationmode\": \"USA-states\", \"lon\": [-105.55056699999999, -100.24716409999999], \"mode\": \"lines\", \"opacity\": 0.1991304347826087, \"type\": \"scattergeo\", \"uid\": \"3a869173-57bb-4124-b986-7342415116bc\"}, {\"lat\": [41.518783500000005, 40.1903624], \"line\": {\"color\": \"red\", \"width\": 2}, \"locationmode\": \"USA-states\", \"lon\": [-72.75750699999999, -82.6692525], \"mode\": \"lines\", \"opacity\": 0.0008695652173913044, \"type\": \"scattergeo\", \"uid\": \"840b171f-0e25-4408-aaf7-6422c19af79b\"}, {\"lat\": [39.145251, 40.7056258], \"line\": {\"color\": \"red\", \"width\": 2}, \"locationmode\": \"USA-states\", \"lon\": [-75.41892059999999, -73.97968], \"mode\": \"lines\", \"opacity\": 0.0017391304347826088, \"type\": \"scattergeo\", \"uid\": \"cc669314-19eb-4490-a200-2d73ed99b4b5\"}, {\"lat\": [27.9757279, 34.1682185], \"line\": {\"color\": \"red\", \"width\": 2}, \"locationmode\": \"USA-states\", \"lon\": [-83.8330166, -111.930907], \"mode\": \"lines\", \"opacity\": 0.46260869565217394, \"type\": \"scattergeo\", \"uid\": \"310ec403-0dc1-43f7-b264-e91afc1fe85a\"}, {\"lat\": [32.6781248, 20.46], \"line\": {\"color\": \"red\", \"width\": 2}, \"locationmode\": \"USA-states\", \"lon\": [-83.22297569999999, -157.505], \"mode\": \"lines\", \"opacity\": 0.04434782608695652, \"type\": \"scattergeo\", \"uid\": \"cb05e797-7edf-4d8b-bab7-6d1bb9e13b34\"}, {\"lat\": [20.46, 47.467881899999995], \"line\": {\"color\": \"red\", \"width\": 2}, \"locationmode\": \"USA-states\", \"lon\": [-157.505, -100.3022655], \"mode\": \"lines\", \"opacity\": 0.049565217391304345, \"type\": \"scattergeo\", \"uid\": \"67a03be6-0353-43f7-b544-ef7815f3ea10\"}, {\"lat\": [41.9383166, 44.7862968], \"line\": {\"color\": \"red\", \"width\": 2}, \"locationmode\": \"USA-states\", \"lon\": [-93.389798, -89.82670490000001], \"mode\": \"lines\", \"opacity\": 0.004347826086956522, \"type\": \"scattergeo\", \"uid\": \"b743cc45-cec9-4492-af84-7c6f4b59d038\"}, {\"lat\": [45.4945756, 37.2718745], \"line\": {\"color\": \"red\", \"width\": 2}, \"locationmode\": \"USA-states\", \"lon\": [-114.1424303, -119.2704153], \"mode\": \"lines\", \"opacity\": 0.9452173913043478, \"type\": \"scattergeo\", \"uid\": \"3efb10de-347e-44dc-8fd6-605125c9059c\"}, {\"lat\": [39.739318, 39.145251], \"line\": {\"color\": \"red\", \"width\": 2}, \"locationmode\": \"USA-states\", \"lon\": [-89.504139, -75.41892059999999], \"mode\": \"lines\", \"opacity\": 0.0017391304347826088, \"type\": \"scattergeo\", \"uid\": \"fe71df55-3d55-4cb2-a9ab-986e2b4d4a72\"}, {\"lat\": [39.7662195, 45.2185133], \"line\": {\"color\": \"red\", \"width\": 2}, \"locationmode\": \"USA-states\", \"lon\": [-86.441277, -69.0148656], \"mode\": \"lines\", \"opacity\": 0.0008695652173913044, \"type\": \"scattergeo\", \"uid\": \"e6f7d2aa-afef-4200-8dc5-ab8886601027\"}, {\"lat\": [38.4987789, 38.9979339], \"line\": {\"color\": \"red\", \"width\": 2}, \"locationmode\": \"USA-states\", \"lon\": [-98.32007790000002, -105.55056699999999], \"mode\": \"lines\", \"opacity\": 0.1408695652173913, \"type\": \"scattergeo\", \"uid\": \"e827cb78-96ed-47b3-83b2-b689a658a7e7\"}, {\"lat\": [37.8222935, 46.4418595], \"line\": {\"color\": \"red\", \"width\": 2}, \"locationmode\": \"USA-states\", \"lon\": [-85.76823990000001, -93.3655146], \"mode\": \"lines\", \"opacity\": 0.09826086956521739, \"type\": \"scattergeo\", \"uid\": \"218810e4-0ab7-489f-b5e2-99d8615e8e46\"}, {\"lat\": [30.9733766, 41.5008195], \"line\": {\"color\": \"red\", \"width\": 2}, \"locationmode\": \"USA-states\", \"lon\": [-91.42990970000001, -99.680902], \"mode\": \"lines\", \"opacity\": 0.0791304347826087, \"type\": \"scattergeo\", \"uid\": \"fb7e0d43-7e5e-4237-9ec6-addc978cf0b2\"}, {\"lat\": [38.806352399999994, 44.9435598], \"line\": {\"color\": \"red\", \"width\": 2}, \"locationmode\": \"USA-states\", \"lon\": [-77.2684162, -86.41580490000001], \"mode\": \"lines\", \"opacity\": 0.011304347826086957, \"type\": \"scattergeo\", \"uid\": \"8204f6b0-ee61-4100-976a-e74b98bdcc13\"}, {\"lat\": [45.2185133, 41.518783500000005], \"line\": {\"color\": \"red\", \"width\": 2}, \"locationmode\": \"USA-states\", \"lon\": [-69.0148656, -72.75750699999999], \"mode\": \"lines\", \"opacity\": 0.0008695652173913044, \"type\": \"scattergeo\", \"uid\": \"bbf49a4f-8399-410f-b77a-edc802f8c5e9\"}, {\"lat\": [44.9435598, 33.62505], \"line\": {\"color\": \"red\", \"width\": 2}, \"locationmode\": \"USA-states\", \"lon\": [-86.41580490000001, -80.9470381], \"mode\": \"lines\", \"opacity\": 0.01217391304347826, \"type\": \"scattergeo\", \"uid\": \"264549e1-a027-40c8-8d56-d36955461c6e\"}, {\"lat\": [46.4418595, 38.4987789], \"line\": {\"color\": \"red\", \"width\": 2}, \"locationmode\": \"USA-states\", \"lon\": [-93.3655146, -98.32007790000002], \"mode\": \"lines\", \"opacity\": 0.13478260869565217, \"type\": \"scattergeo\", \"uid\": \"da93d613-143c-4c2b-a89f-3e38fba7cd0a\"}, {\"lat\": [38.3046615, 34.7519275], \"line\": {\"color\": \"red\", \"width\": 2}, \"locationmode\": \"USA-states\", \"lon\": [-92.437099, -92.13137840000002], \"mode\": \"lines\", \"opacity\": 0.023478260869565216, \"type\": \"scattergeo\", \"uid\": \"a99b01c6-f052-4ea8-ac99-9eb0edc9d67c\"}, {\"lat\": [32.5851062, 35.2145629], \"line\": {\"color\": \"red\", \"width\": 2}, \"locationmode\": \"USA-states\", \"lon\": [-89.8772196, -79.8912675], \"mode\": \"lines\", \"opacity\": 0.04, \"type\": \"scattergeo\", \"uid\": \"ffe6414d-34ac-492d-9716-0cfd18da4b90\"}, {\"lat\": [46.6797995, 44.1419049], \"line\": {\"color\": \"red\", \"width\": 2}, \"locationmode\": \"USA-states\", \"lon\": [-110.04478300000001, -120.5380993], \"mode\": \"lines\", \"opacity\": 0.5191304347826087, \"type\": \"scattergeo\", \"uid\": \"eb73706c-b6aa-4a78-940b-624d99511ed2\"}, {\"lat\": [35.2145629, 35.830521000000005], \"line\": {\"color\": \"red\", \"width\": 2}, \"locationmode\": \"USA-states\", \"lon\": [-79.8912675, -85.97859890000001], \"mode\": \"lines\", \"opacity\": 0.04173913043478261, \"type\": \"scattergeo\", \"uid\": \"f3f0eb38-9d47-4b07-92a8-e8f85a2c294b\"}, {\"lat\": [47.467881899999995, 38.920170500000005], \"line\": {\"color\": \"red\", \"width\": 2}, \"locationmode\": \"USA-states\", \"lon\": [-100.3022655, -80.1816905], \"mode\": \"lines\", \"opacity\": 0.057391304347826085, \"type\": \"scattergeo\", \"uid\": \"30bc3876-55d4-468b-8aa8-c2802589e79d\"}, {\"lat\": [41.5008195, 37.8222935], \"line\": {\"color\": \"red\", \"width\": 2}, \"locationmode\": \"USA-states\", \"lon\": [-99.680902, -85.76823990000001], \"mode\": \"lines\", \"opacity\": 0.08695652173913043, \"type\": \"scattergeo\", \"uid\": \"4a792f1f-003c-4454-b131-b11297f2bc43\"}, {\"lat\": [40.1430058, 38.3046615], \"line\": {\"color\": \"red\", \"width\": 2}, \"locationmode\": \"USA-states\", \"lon\": [-74.7311156, -92.437099], \"mode\": \"lines\", \"opacity\": 0.01652173913043478, \"type\": \"scattergeo\", \"uid\": \"9d8a7fe8-9aef-45d0-a184-f3e86cf412ea\"}, {\"lat\": [34.1662325, 31.1693363], \"line\": {\"color\": \"red\", \"width\": 2}, \"locationmode\": \"USA-states\", \"lon\": [-106.02606850000001, -100.0768425], \"mode\": \"lines\", \"opacity\": 0.6339130434782608, \"type\": \"scattergeo\", \"uid\": \"9851c67e-35fa-43ec-be2f-86dab01e294c\"}, {\"lat\": [38.502032, 34.1662325], \"line\": {\"color\": \"red\", \"width\": 2}, \"locationmode\": \"USA-states\", \"lon\": [-117.0230604, -106.02606850000001], \"mode\": \"lines\", \"opacity\": 0.6104347826086957, \"type\": \"scattergeo\", \"uid\": \"e9252de3-57db-4f0e-8ff8-b0164b028398\"}, {\"lat\": [40.7056258, 40.99459279999999], \"line\": {\"color\": \"red\", \"width\": 2}, \"locationmode\": \"USA-states\", \"lon\": [-73.97968, -77.6046984], \"mode\": \"lines\", \"opacity\": 0.0034782608695652175, \"type\": \"scattergeo\", \"uid\": \"58045771-aede-4957-bde1-21130b7e1752\"}, {\"lat\": [40.1903624, 39.739318], \"line\": {\"color\": \"red\", \"width\": 2}, \"locationmode\": \"USA-states\", \"lon\": [-82.6692525, -89.504139], \"mode\": \"lines\", \"opacity\": 0.0017391304347826088, \"type\": \"scattergeo\", \"uid\": \"cf260154-fed7-4b91-bdbe-3b93b68205c3\"}, {\"lat\": [35.309765399999996, 27.9757279], \"line\": {\"color\": \"red\", \"width\": 2}, \"locationmode\": \"USA-states\", \"lon\": [-98.71655849999999, -83.8330166], \"mode\": \"lines\", \"opacity\": 0.44521739130434784, \"type\": \"scattergeo\", \"uid\": \"b2fb0072-0f25-4b87-9b19-4ae6aac8a3f7\"}, {\"lat\": [44.1419049, 38.502032], \"line\": {\"color\": \"red\", \"width\": 2}, \"locationmode\": \"USA-states\", \"lon\": [-120.5380993, -117.0230604], \"mode\": \"lines\", \"opacity\": 0.5295652173913044, \"type\": \"scattergeo\", \"uid\": \"d7b8370f-bd4b-40c7-8d23-0e7257bdcce2\"}, {\"lat\": [40.99459279999999, 41.9383166], \"line\": {\"color\": \"red\", \"width\": 2}, \"locationmode\": \"USA-states\", \"lon\": [-77.6046984, -93.389798], \"mode\": \"lines\", \"opacity\": 0.0034782608695652175, \"type\": \"scattergeo\", \"uid\": \"72001966-ab35-4328-825f-7751869b16ad\"}, {\"lat\": [33.62505, 40.1430058], \"line\": {\"color\": \"red\", \"width\": 2}, \"locationmode\": \"USA-states\", \"lon\": [-80.9470381, -74.7311156], \"mode\": \"lines\", \"opacity\": 0.014782608695652174, \"type\": \"scattergeo\", \"uid\": \"a2e54e38-0d3a-404e-97c7-1a7293584c7c\"}, {\"lat\": [44.2126995, 43.000325], \"line\": {\"color\": \"red\", \"width\": 2}, \"locationmode\": \"USA-states\", \"lon\": [-100.24716409999999, -107.5545669], \"mode\": \"lines\", \"opacity\": 0.22695652173913045, \"type\": \"scattergeo\", \"uid\": \"b5d78286-08a9-4720-bef6-9b0dd2c719f4\"}, {\"lat\": [35.830521000000005, 38.0033855], \"line\": {\"color\": \"red\", \"width\": 2}, \"locationmode\": \"USA-states\", \"lon\": [-85.97859890000001, -79.4587861], \"mode\": \"lines\", \"opacity\": 0.04173913043478261, \"type\": \"scattergeo\", \"uid\": \"21bd44dc-d159-4f94-9134-cfda1ad85003\"}, {\"lat\": [31.1693363, 61.3025006], \"line\": {\"color\": \"red\", \"width\": 2}, \"locationmode\": \"USA-states\", \"lon\": [-100.0768425, -158.7750198], \"mode\": \"lines\", \"opacity\": 0.9008695652173913, \"type\": \"scattergeo\", \"uid\": \"8cff87cc-a247-48ee-a2e7-e34dc35cfa37\"}, {\"lat\": [39.4997605, 35.309765399999996], \"line\": {\"color\": \"red\", \"width\": 2}, \"locationmode\": \"USA-states\", \"lon\": [-111.547028, -98.71655849999999], \"mode\": \"lines\", \"opacity\": 0.4365217391304348, \"type\": \"scattergeo\", \"uid\": \"d1afceb9-5aa1-4e38-850b-84b30d12eea3\"}, {\"lat\": [38.0033855, 32.6781248], \"line\": {\"color\": \"red\", \"width\": 2}, \"locationmode\": \"USA-states\", \"lon\": [-79.4587861, -83.22297569999999], \"mode\": \"lines\", \"opacity\": 0.042608695652173914, \"type\": \"scattergeo\", \"uid\": \"c046d20a-2b33-4505-93cf-fea9bd0ad626\"}, {\"lat\": [38.899348700000004, 39.4997605], \"line\": {\"color\": \"red\", \"width\": 2}, \"locationmode\": \"USA-states\", \"lon\": [-77.0145665, -111.547028], \"mode\": \"lines\", \"opacity\": 0.3417391304347826, \"type\": \"scattergeo\", \"uid\": \"f8b12d6b-ce5a-47b2-bee2-af9e6c48592f\"}, {\"lat\": [44.7862968, 38.806352399999994], \"line\": {\"color\": \"red\", \"width\": 2}, \"locationmode\": \"USA-states\", \"lon\": [-89.82670490000001, -77.2684162], \"mode\": \"lines\", \"opacity\": 0.006956521739130435, \"type\": \"scattergeo\", \"uid\": \"9dc839a0-3785-4b76-a5d9-86014099333b\"}, {\"lat\": [38.920170500000005, 30.9733766], \"line\": {\"color\": \"red\", \"width\": 2}, \"locationmode\": \"USA-states\", \"lon\": [-80.1816905, -91.42990970000001], \"mode\": \"lines\", \"opacity\": 0.06956521739130435, \"type\": \"scattergeo\", \"uid\": \"4dd60640-8329-468f-9c2b-bd893065733e\"}, {\"lat\": [43.000325, 38.899348700000004], \"line\": {\"color\": \"red\", \"width\": 2}, \"locationmode\": \"USA-states\", \"lon\": [-107.5545669, -77.0145665], \"mode\": \"lines\", \"opacity\": 0.26869565217391306, \"type\": \"scattergeo\", \"uid\": \"e6cfa98b-41cc-4b15-849b-4bd251184f86\"}, {\"hoverinfo\": \"text\", \"lat\": [37.2718745, 45.4945756, 61.3025006, 31.1693363, 34.1662325, 38.502032, 44.1419049, 46.6797995, 34.1682185, 27.9757279, 35.309765399999996, 39.4997605, 38.899348700000004, 43.000325, 44.2126995, 38.9979339, 38.4987789, 46.4418595, 37.8222935, 41.5008195, 30.9733766, 38.920170500000005, 47.467881899999995, 20.46, 32.6781248, 38.0033855, 35.830521000000005, 35.2145629, 32.5851062, 32.601011199999995, 34.7519275, 38.3046615, 40.1430058, 33.62505, 44.9435598, 38.806352399999994, 44.7862968, 41.9383166, 40.99459279999999, 40.7056258, 39.145251, 39.739318, 40.1903624, 41.518783500000005, 45.2185133, 39.7662195], \"locationmode\": \"USA-states\", \"lon\": [-119.2704153, -114.1424303, -158.7750198, -100.0768425, -106.02606850000001, -117.0230604, -120.5380993, -110.04478300000001, -111.930907, -83.8330166, -98.71655849999999, -111.547028, -77.0145665, -107.5545669, -100.24716409999999, -105.55056699999999, -98.32007790000002, -93.3655146, -85.76823990000001, -99.680902, -91.42990970000001, -80.1816905, -100.3022655, -157.505, -83.22297569999999, -79.4587861, -85.97859890000001, -79.8912675, -89.8772196, -86.6807365, -92.13137840000002, -92.437099, -74.7311156, -80.9470381, -86.41580490000001, -77.2684162, -89.82670490000001, -93.389798, -77.6046984, -73.97968, -75.41892059999999, -89.504139, -82.6692525, -72.75750699999999, -69.0148656, -86.441277], \"marker\": {\"color\": \"rgb(255, 0, 0)\", \"line\": {\"color\": \"rgba(68, 68, 68, 0)\", \"width\": 3}, \"size\": 3}, \"mode\": \"markers\", \"text\": [\"State: CA<br>Number of Fires: 1150\", \"State: ID<br>Number of Fires: 1087\", \"State: AK<br>Number of Fires: 1063\", \"State: TX<br>Number of Fires: 1036\", \"State: NM<br>Number of Fires: 729\", \"State: NV<br>Number of Fires: 702\", \"State: OR<br>Number of Fires: 609\", \"State: MT<br>Number of Fires: 597\", \"State: AZ<br>Number of Fires: 589\", \"State: FL<br>Number of Fires: 532\", \"State: OK<br>Number of Fires: 512\", \"State: UT<br>Number of Fires: 502\", \"State: WA<br>Number of Fires: 393\", \"State: WY<br>Number of Fires: 309\", \"State: SD<br>Number of Fires: 261\", \"State: CO<br>Number of Fires: 229\", \"State: KS<br>Number of Fires: 162\", \"State: MN<br>Number of Fires: 155\", \"State: KY<br>Number of Fires: 113\", \"State: NE<br>Number of Fires: 100\", \"State: LA<br>Number of Fires: 91\", \"State: WV<br>Number of Fires: 80\", \"State: ND<br>Number of Fires: 66\", \"State: HI<br>Number of Fires: 57\", \"State: GA<br>Number of Fires: 51\", \"State: VA<br>Number of Fires: 49\", \"State: TN<br>Number of Fires: 48\", \"State: NC<br>Number of Fires: 48\", \"State: MS<br>Number of Fires: 46\", \"State: AL<br>Number of Fires: 33\", \"State: AR<br>Number of Fires: 31\", \"State: MO<br>Number of Fires: 27\", \"State: NJ<br>Number of Fires: 19\", \"State: SC<br>Number of Fires: 17\", \"State: MI<br>Number of Fires: 14\", \"State: MD<br>Number of Fires: 13\", \"State: WI<br>Number of Fires: 8\", \"State: IA<br>Number of Fires: 5\", \"State: PA<br>Number of Fires: 4\", \"State: NY<br>Number of Fires: 4\", \"State: DE<br>Number of Fires: 2\", \"State: IL<br>Number of Fires: 2\", \"State: OH<br>Number of Fires: 2\", \"State: CT<br>Number of Fires: 1\", \"State: ME<br>Number of Fires: 1\", \"State: IN<br>Number of Fires: 1\"], \"type\": \"scattergeo\", \"uid\": \"8bffd4a2-b81a-4cf9-a87a-96f5174f9414\"}], {\"geo\": {\"countrycolor\": \"rgb(204, 204, 204)\", \"landcolor\": \"rgb(243, 243, 243)\", \"projection\": {\"type\": \"albers usa\"}, \"scope\": \"usa\", \"showland\": true}, \"showlegend\": false, \"title\": {\"text\": \"US States ranked by number of class F and G wildfires (1992-2016)\"}}, {\"showLink\": false, \"linkText\": \"Export to plot.ly\", \"plotlyServerURL\": \"https://plot.ly\"}); \n",
       "}\n",
       "});</script><script type=\"text/javascript\">window.addEventListener(\"resize\", function(){if (document.getElementById(\"9bac3124-6ca3-4e29-8c64-8f02187c787f\")) {window._Plotly.Plots.resize(document.getElementById(\"9bac3124-6ca3-4e29-8c64-8f02187c787f\"));};})</script>"
      ],
      "text/vnd.plotly.v1+html": [
       "<div id=\"9bac3124-6ca3-4e29-8c64-8f02187c787f\" style=\"height: 525px; width: 100%;\" class=\"plotly-graph-div\"></div><script type=\"text/javascript\">require([\"plotly\"], function(Plotly) { window.PLOTLYENV=window.PLOTLYENV || {};window.PLOTLYENV.BASE_URL=\"https://plot.ly\";\n",
       "if (document.getElementById(\"9bac3124-6ca3-4e29-8c64-8f02187c787f\")) {\n",
       "    Plotly.newPlot(\"9bac3124-6ca3-4e29-8c64-8f02187c787f\", [{\"lat\": [61.3025006, 45.4945756], \"line\": {\"color\": \"red\", \"width\": 2}, \"locationmode\": \"USA-states\", \"lon\": [-158.7750198, -114.1424303], \"mode\": \"lines\", \"opacity\": 0.9243478260869565, \"type\": \"scattergeo\", \"uid\": \"4a193463-9d1b-4b42-8a24-fa88ccbecb4d\"}, {\"lat\": [32.601011199999995, 32.5851062], \"line\": {\"color\": \"red\", \"width\": 2}, \"locationmode\": \"USA-states\", \"lon\": [-86.6807365, -89.8772196], \"mode\": \"lines\", \"opacity\": 0.028695652173913042, \"type\": \"scattergeo\", \"uid\": \"e0df849c-c6ce-41f2-9422-60dbbc917da9\"}, {\"lat\": [34.7519275, 32.601011199999995], \"line\": {\"color\": \"red\", \"width\": 2}, \"locationmode\": \"USA-states\", \"lon\": [-92.13137840000002, -86.6807365], \"mode\": \"lines\", \"opacity\": 0.026956521739130435, \"type\": \"scattergeo\", \"uid\": \"645bb575-880e-4c45-ad9c-8a8c71c60210\"}, {\"lat\": [34.1682185, 46.6797995], \"line\": {\"color\": \"red\", \"width\": 2}, \"locationmode\": \"USA-states\", \"lon\": [-111.930907, -110.04478300000001], \"mode\": \"lines\", \"opacity\": 0.5121739130434783, \"type\": \"scattergeo\", \"uid\": \"04be9484-6aec-43b7-ab3c-a07bf6b7650e\"}, {\"lat\": [37.2718745, null], \"line\": {\"color\": \"red\", \"width\": 2}, \"locationmode\": \"USA-states\", \"lon\": [-119.2704153, null], \"mode\": \"lines\", \"opacity\": 1.0, \"type\": \"scattergeo\", \"uid\": \"98d33c37-5f9a-4d30-accc-dc6a051892bb\"}, {\"lat\": [38.9979339, 44.2126995], \"line\": {\"color\": \"red\", \"width\": 2}, \"locationmode\": \"USA-states\", \"lon\": [-105.55056699999999, -100.24716409999999], \"mode\": \"lines\", \"opacity\": 0.1991304347826087, \"type\": \"scattergeo\", \"uid\": \"3a869173-57bb-4124-b986-7342415116bc\"}, {\"lat\": [41.518783500000005, 40.1903624], \"line\": {\"color\": \"red\", \"width\": 2}, \"locationmode\": \"USA-states\", \"lon\": [-72.75750699999999, -82.6692525], \"mode\": \"lines\", \"opacity\": 0.0008695652173913044, \"type\": \"scattergeo\", \"uid\": \"840b171f-0e25-4408-aaf7-6422c19af79b\"}, {\"lat\": [39.145251, 40.7056258], \"line\": {\"color\": \"red\", \"width\": 2}, \"locationmode\": \"USA-states\", \"lon\": [-75.41892059999999, -73.97968], \"mode\": \"lines\", \"opacity\": 0.0017391304347826088, \"type\": \"scattergeo\", \"uid\": \"cc669314-19eb-4490-a200-2d73ed99b4b5\"}, {\"lat\": [27.9757279, 34.1682185], \"line\": {\"color\": \"red\", \"width\": 2}, \"locationmode\": \"USA-states\", \"lon\": [-83.8330166, -111.930907], \"mode\": \"lines\", \"opacity\": 0.46260869565217394, \"type\": \"scattergeo\", \"uid\": \"310ec403-0dc1-43f7-b264-e91afc1fe85a\"}, {\"lat\": [32.6781248, 20.46], \"line\": {\"color\": \"red\", \"width\": 2}, \"locationmode\": \"USA-states\", \"lon\": [-83.22297569999999, -157.505], \"mode\": \"lines\", \"opacity\": 0.04434782608695652, \"type\": \"scattergeo\", \"uid\": \"cb05e797-7edf-4d8b-bab7-6d1bb9e13b34\"}, {\"lat\": [20.46, 47.467881899999995], \"line\": {\"color\": \"red\", \"width\": 2}, \"locationmode\": \"USA-states\", \"lon\": [-157.505, -100.3022655], \"mode\": \"lines\", \"opacity\": 0.049565217391304345, \"type\": \"scattergeo\", \"uid\": \"67a03be6-0353-43f7-b544-ef7815f3ea10\"}, {\"lat\": [41.9383166, 44.7862968], \"line\": {\"color\": \"red\", \"width\": 2}, \"locationmode\": \"USA-states\", \"lon\": [-93.389798, -89.82670490000001], \"mode\": \"lines\", \"opacity\": 0.004347826086956522, \"type\": \"scattergeo\", \"uid\": \"b743cc45-cec9-4492-af84-7c6f4b59d038\"}, {\"lat\": [45.4945756, 37.2718745], \"line\": {\"color\": \"red\", \"width\": 2}, \"locationmode\": \"USA-states\", \"lon\": [-114.1424303, -119.2704153], \"mode\": \"lines\", \"opacity\": 0.9452173913043478, \"type\": \"scattergeo\", \"uid\": \"3efb10de-347e-44dc-8fd6-605125c9059c\"}, {\"lat\": [39.739318, 39.145251], \"line\": {\"color\": \"red\", \"width\": 2}, \"locationmode\": \"USA-states\", \"lon\": [-89.504139, -75.41892059999999], \"mode\": \"lines\", \"opacity\": 0.0017391304347826088, \"type\": \"scattergeo\", \"uid\": \"fe71df55-3d55-4cb2-a9ab-986e2b4d4a72\"}, {\"lat\": [39.7662195, 45.2185133], \"line\": {\"color\": \"red\", \"width\": 2}, \"locationmode\": \"USA-states\", \"lon\": [-86.441277, -69.0148656], \"mode\": \"lines\", \"opacity\": 0.0008695652173913044, \"type\": \"scattergeo\", \"uid\": \"e6f7d2aa-afef-4200-8dc5-ab8886601027\"}, {\"lat\": [38.4987789, 38.9979339], \"line\": {\"color\": \"red\", \"width\": 2}, \"locationmode\": \"USA-states\", \"lon\": [-98.32007790000002, -105.55056699999999], \"mode\": \"lines\", \"opacity\": 0.1408695652173913, \"type\": \"scattergeo\", \"uid\": \"e827cb78-96ed-47b3-83b2-b689a658a7e7\"}, {\"lat\": [37.8222935, 46.4418595], \"line\": {\"color\": \"red\", \"width\": 2}, \"locationmode\": \"USA-states\", \"lon\": [-85.76823990000001, -93.3655146], \"mode\": \"lines\", \"opacity\": 0.09826086956521739, \"type\": \"scattergeo\", \"uid\": \"218810e4-0ab7-489f-b5e2-99d8615e8e46\"}, {\"lat\": [30.9733766, 41.5008195], \"line\": {\"color\": \"red\", \"width\": 2}, \"locationmode\": \"USA-states\", \"lon\": [-91.42990970000001, -99.680902], \"mode\": \"lines\", \"opacity\": 0.0791304347826087, \"type\": \"scattergeo\", \"uid\": \"fb7e0d43-7e5e-4237-9ec6-addc978cf0b2\"}, {\"lat\": [38.806352399999994, 44.9435598], \"line\": {\"color\": \"red\", \"width\": 2}, \"locationmode\": \"USA-states\", \"lon\": [-77.2684162, -86.41580490000001], \"mode\": \"lines\", \"opacity\": 0.011304347826086957, \"type\": \"scattergeo\", \"uid\": \"8204f6b0-ee61-4100-976a-e74b98bdcc13\"}, {\"lat\": [45.2185133, 41.518783500000005], \"line\": {\"color\": \"red\", \"width\": 2}, \"locationmode\": \"USA-states\", \"lon\": [-69.0148656, -72.75750699999999], \"mode\": \"lines\", \"opacity\": 0.0008695652173913044, \"type\": \"scattergeo\", \"uid\": \"bbf49a4f-8399-410f-b77a-edc802f8c5e9\"}, {\"lat\": [44.9435598, 33.62505], \"line\": {\"color\": \"red\", \"width\": 2}, \"locationmode\": \"USA-states\", \"lon\": [-86.41580490000001, -80.9470381], \"mode\": \"lines\", \"opacity\": 0.01217391304347826, \"type\": \"scattergeo\", \"uid\": \"264549e1-a027-40c8-8d56-d36955461c6e\"}, {\"lat\": [46.4418595, 38.4987789], \"line\": {\"color\": \"red\", \"width\": 2}, \"locationmode\": \"USA-states\", \"lon\": [-93.3655146, -98.32007790000002], \"mode\": \"lines\", \"opacity\": 0.13478260869565217, \"type\": \"scattergeo\", \"uid\": \"da93d613-143c-4c2b-a89f-3e38fba7cd0a\"}, {\"lat\": [38.3046615, 34.7519275], \"line\": {\"color\": \"red\", \"width\": 2}, \"locationmode\": \"USA-states\", \"lon\": [-92.437099, -92.13137840000002], \"mode\": \"lines\", \"opacity\": 0.023478260869565216, \"type\": \"scattergeo\", \"uid\": \"a99b01c6-f052-4ea8-ac99-9eb0edc9d67c\"}, {\"lat\": [32.5851062, 35.2145629], \"line\": {\"color\": \"red\", \"width\": 2}, \"locationmode\": \"USA-states\", \"lon\": [-89.8772196, -79.8912675], \"mode\": \"lines\", \"opacity\": 0.04, \"type\": \"scattergeo\", \"uid\": \"ffe6414d-34ac-492d-9716-0cfd18da4b90\"}, {\"lat\": [46.6797995, 44.1419049], \"line\": {\"color\": \"red\", \"width\": 2}, \"locationmode\": \"USA-states\", \"lon\": [-110.04478300000001, -120.5380993], \"mode\": \"lines\", \"opacity\": 0.5191304347826087, \"type\": \"scattergeo\", \"uid\": \"eb73706c-b6aa-4a78-940b-624d99511ed2\"}, {\"lat\": [35.2145629, 35.830521000000005], \"line\": {\"color\": \"red\", \"width\": 2}, \"locationmode\": \"USA-states\", \"lon\": [-79.8912675, -85.97859890000001], \"mode\": \"lines\", \"opacity\": 0.04173913043478261, \"type\": \"scattergeo\", \"uid\": \"f3f0eb38-9d47-4b07-92a8-e8f85a2c294b\"}, {\"lat\": [47.467881899999995, 38.920170500000005], \"line\": {\"color\": \"red\", \"width\": 2}, \"locationmode\": \"USA-states\", \"lon\": [-100.3022655, -80.1816905], \"mode\": \"lines\", \"opacity\": 0.057391304347826085, \"type\": \"scattergeo\", \"uid\": \"30bc3876-55d4-468b-8aa8-c2802589e79d\"}, {\"lat\": [41.5008195, 37.8222935], \"line\": {\"color\": \"red\", \"width\": 2}, \"locationmode\": \"USA-states\", \"lon\": [-99.680902, -85.76823990000001], \"mode\": \"lines\", \"opacity\": 0.08695652173913043, \"type\": \"scattergeo\", \"uid\": \"4a792f1f-003c-4454-b131-b11297f2bc43\"}, {\"lat\": [40.1430058, 38.3046615], \"line\": {\"color\": \"red\", \"width\": 2}, \"locationmode\": \"USA-states\", \"lon\": [-74.7311156, -92.437099], \"mode\": \"lines\", \"opacity\": 0.01652173913043478, \"type\": \"scattergeo\", \"uid\": \"9d8a7fe8-9aef-45d0-a184-f3e86cf412ea\"}, {\"lat\": [34.1662325, 31.1693363], \"line\": {\"color\": \"red\", \"width\": 2}, \"locationmode\": \"USA-states\", \"lon\": [-106.02606850000001, -100.0768425], \"mode\": \"lines\", \"opacity\": 0.6339130434782608, \"type\": \"scattergeo\", \"uid\": \"9851c67e-35fa-43ec-be2f-86dab01e294c\"}, {\"lat\": [38.502032, 34.1662325], \"line\": {\"color\": \"red\", \"width\": 2}, \"locationmode\": \"USA-states\", \"lon\": [-117.0230604, -106.02606850000001], \"mode\": \"lines\", \"opacity\": 0.6104347826086957, \"type\": \"scattergeo\", \"uid\": \"e9252de3-57db-4f0e-8ff8-b0164b028398\"}, {\"lat\": [40.7056258, 40.99459279999999], \"line\": {\"color\": \"red\", \"width\": 2}, \"locationmode\": \"USA-states\", \"lon\": [-73.97968, -77.6046984], \"mode\": \"lines\", \"opacity\": 0.0034782608695652175, \"type\": \"scattergeo\", \"uid\": \"58045771-aede-4957-bde1-21130b7e1752\"}, {\"lat\": [40.1903624, 39.739318], \"line\": {\"color\": \"red\", \"width\": 2}, \"locationmode\": \"USA-states\", \"lon\": [-82.6692525, -89.504139], \"mode\": \"lines\", \"opacity\": 0.0017391304347826088, \"type\": \"scattergeo\", \"uid\": \"cf260154-fed7-4b91-bdbe-3b93b68205c3\"}, {\"lat\": [35.309765399999996, 27.9757279], \"line\": {\"color\": \"red\", \"width\": 2}, \"locationmode\": \"USA-states\", \"lon\": [-98.71655849999999, -83.8330166], \"mode\": \"lines\", \"opacity\": 0.44521739130434784, \"type\": \"scattergeo\", \"uid\": \"b2fb0072-0f25-4b87-9b19-4ae6aac8a3f7\"}, {\"lat\": [44.1419049, 38.502032], \"line\": {\"color\": \"red\", \"width\": 2}, \"locationmode\": \"USA-states\", \"lon\": [-120.5380993, -117.0230604], \"mode\": \"lines\", \"opacity\": 0.5295652173913044, \"type\": \"scattergeo\", \"uid\": \"d7b8370f-bd4b-40c7-8d23-0e7257bdcce2\"}, {\"lat\": [40.99459279999999, 41.9383166], \"line\": {\"color\": \"red\", \"width\": 2}, \"locationmode\": \"USA-states\", \"lon\": [-77.6046984, -93.389798], \"mode\": \"lines\", \"opacity\": 0.0034782608695652175, \"type\": \"scattergeo\", \"uid\": \"72001966-ab35-4328-825f-7751869b16ad\"}, {\"lat\": [33.62505, 40.1430058], \"line\": {\"color\": \"red\", \"width\": 2}, \"locationmode\": \"USA-states\", \"lon\": [-80.9470381, -74.7311156], \"mode\": \"lines\", \"opacity\": 0.014782608695652174, \"type\": \"scattergeo\", \"uid\": \"a2e54e38-0d3a-404e-97c7-1a7293584c7c\"}, {\"lat\": [44.2126995, 43.000325], \"line\": {\"color\": \"red\", \"width\": 2}, \"locationmode\": \"USA-states\", \"lon\": [-100.24716409999999, -107.5545669], \"mode\": \"lines\", \"opacity\": 0.22695652173913045, \"type\": \"scattergeo\", \"uid\": \"b5d78286-08a9-4720-bef6-9b0dd2c719f4\"}, {\"lat\": [35.830521000000005, 38.0033855], \"line\": {\"color\": \"red\", \"width\": 2}, \"locationmode\": \"USA-states\", \"lon\": [-85.97859890000001, -79.4587861], \"mode\": \"lines\", \"opacity\": 0.04173913043478261, \"type\": \"scattergeo\", \"uid\": \"21bd44dc-d159-4f94-9134-cfda1ad85003\"}, {\"lat\": [31.1693363, 61.3025006], \"line\": {\"color\": \"red\", \"width\": 2}, \"locationmode\": \"USA-states\", \"lon\": [-100.0768425, -158.7750198], \"mode\": \"lines\", \"opacity\": 0.9008695652173913, \"type\": \"scattergeo\", \"uid\": \"8cff87cc-a247-48ee-a2e7-e34dc35cfa37\"}, {\"lat\": [39.4997605, 35.309765399999996], \"line\": {\"color\": \"red\", \"width\": 2}, \"locationmode\": \"USA-states\", \"lon\": [-111.547028, -98.71655849999999], \"mode\": \"lines\", \"opacity\": 0.4365217391304348, \"type\": \"scattergeo\", \"uid\": \"d1afceb9-5aa1-4e38-850b-84b30d12eea3\"}, {\"lat\": [38.0033855, 32.6781248], \"line\": {\"color\": \"red\", \"width\": 2}, \"locationmode\": \"USA-states\", \"lon\": [-79.4587861, -83.22297569999999], \"mode\": \"lines\", \"opacity\": 0.042608695652173914, \"type\": \"scattergeo\", \"uid\": \"c046d20a-2b33-4505-93cf-fea9bd0ad626\"}, {\"lat\": [38.899348700000004, 39.4997605], \"line\": {\"color\": \"red\", \"width\": 2}, \"locationmode\": \"USA-states\", \"lon\": [-77.0145665, -111.547028], \"mode\": \"lines\", \"opacity\": 0.3417391304347826, \"type\": \"scattergeo\", \"uid\": \"f8b12d6b-ce5a-47b2-bee2-af9e6c48592f\"}, {\"lat\": [44.7862968, 38.806352399999994], \"line\": {\"color\": \"red\", \"width\": 2}, \"locationmode\": \"USA-states\", \"lon\": [-89.82670490000001, -77.2684162], \"mode\": \"lines\", \"opacity\": 0.006956521739130435, \"type\": \"scattergeo\", \"uid\": \"9dc839a0-3785-4b76-a5d9-86014099333b\"}, {\"lat\": [38.920170500000005, 30.9733766], \"line\": {\"color\": \"red\", \"width\": 2}, \"locationmode\": \"USA-states\", \"lon\": [-80.1816905, -91.42990970000001], \"mode\": \"lines\", \"opacity\": 0.06956521739130435, \"type\": \"scattergeo\", \"uid\": \"4dd60640-8329-468f-9c2b-bd893065733e\"}, {\"lat\": [43.000325, 38.899348700000004], \"line\": {\"color\": \"red\", \"width\": 2}, \"locationmode\": \"USA-states\", \"lon\": [-107.5545669, -77.0145665], \"mode\": \"lines\", \"opacity\": 0.26869565217391306, \"type\": \"scattergeo\", \"uid\": \"e6cfa98b-41cc-4b15-849b-4bd251184f86\"}, {\"hoverinfo\": \"text\", \"lat\": [37.2718745, 45.4945756, 61.3025006, 31.1693363, 34.1662325, 38.502032, 44.1419049, 46.6797995, 34.1682185, 27.9757279, 35.309765399999996, 39.4997605, 38.899348700000004, 43.000325, 44.2126995, 38.9979339, 38.4987789, 46.4418595, 37.8222935, 41.5008195, 30.9733766, 38.920170500000005, 47.467881899999995, 20.46, 32.6781248, 38.0033855, 35.830521000000005, 35.2145629, 32.5851062, 32.601011199999995, 34.7519275, 38.3046615, 40.1430058, 33.62505, 44.9435598, 38.806352399999994, 44.7862968, 41.9383166, 40.99459279999999, 40.7056258, 39.145251, 39.739318, 40.1903624, 41.518783500000005, 45.2185133, 39.7662195], \"locationmode\": \"USA-states\", \"lon\": [-119.2704153, -114.1424303, -158.7750198, -100.0768425, -106.02606850000001, -117.0230604, -120.5380993, -110.04478300000001, -111.930907, -83.8330166, -98.71655849999999, -111.547028, -77.0145665, -107.5545669, -100.24716409999999, -105.55056699999999, -98.32007790000002, -93.3655146, -85.76823990000001, -99.680902, -91.42990970000001, -80.1816905, -100.3022655, -157.505, -83.22297569999999, -79.4587861, -85.97859890000001, -79.8912675, -89.8772196, -86.6807365, -92.13137840000002, -92.437099, -74.7311156, -80.9470381, -86.41580490000001, -77.2684162, -89.82670490000001, -93.389798, -77.6046984, -73.97968, -75.41892059999999, -89.504139, -82.6692525, -72.75750699999999, -69.0148656, -86.441277], \"marker\": {\"color\": \"rgb(255, 0, 0)\", \"line\": {\"color\": \"rgba(68, 68, 68, 0)\", \"width\": 3}, \"size\": 3}, \"mode\": \"markers\", \"text\": [\"State: CA<br>Number of Fires: 1150\", \"State: ID<br>Number of Fires: 1087\", \"State: AK<br>Number of Fires: 1063\", \"State: TX<br>Number of Fires: 1036\", \"State: NM<br>Number of Fires: 729\", \"State: NV<br>Number of Fires: 702\", \"State: OR<br>Number of Fires: 609\", \"State: MT<br>Number of Fires: 597\", \"State: AZ<br>Number of Fires: 589\", \"State: FL<br>Number of Fires: 532\", \"State: OK<br>Number of Fires: 512\", \"State: UT<br>Number of Fires: 502\", \"State: WA<br>Number of Fires: 393\", \"State: WY<br>Number of Fires: 309\", \"State: SD<br>Number of Fires: 261\", \"State: CO<br>Number of Fires: 229\", \"State: KS<br>Number of Fires: 162\", \"State: MN<br>Number of Fires: 155\", \"State: KY<br>Number of Fires: 113\", \"State: NE<br>Number of Fires: 100\", \"State: LA<br>Number of Fires: 91\", \"State: WV<br>Number of Fires: 80\", \"State: ND<br>Number of Fires: 66\", \"State: HI<br>Number of Fires: 57\", \"State: GA<br>Number of Fires: 51\", \"State: VA<br>Number of Fires: 49\", \"State: TN<br>Number of Fires: 48\", \"State: NC<br>Number of Fires: 48\", \"State: MS<br>Number of Fires: 46\", \"State: AL<br>Number of Fires: 33\", \"State: AR<br>Number of Fires: 31\", \"State: MO<br>Number of Fires: 27\", \"State: NJ<br>Number of Fires: 19\", \"State: SC<br>Number of Fires: 17\", \"State: MI<br>Number of Fires: 14\", \"State: MD<br>Number of Fires: 13\", \"State: WI<br>Number of Fires: 8\", \"State: IA<br>Number of Fires: 5\", \"State: PA<br>Number of Fires: 4\", \"State: NY<br>Number of Fires: 4\", \"State: DE<br>Number of Fires: 2\", \"State: IL<br>Number of Fires: 2\", \"State: OH<br>Number of Fires: 2\", \"State: CT<br>Number of Fires: 1\", \"State: ME<br>Number of Fires: 1\", \"State: IN<br>Number of Fires: 1\"], \"type\": \"scattergeo\", \"uid\": \"8bffd4a2-b81a-4cf9-a87a-96f5174f9414\"}], {\"geo\": {\"countrycolor\": \"rgb(204, 204, 204)\", \"landcolor\": \"rgb(243, 243, 243)\", \"projection\": {\"type\": \"albers usa\"}, \"scope\": \"usa\", \"showland\": true}, \"showlegend\": false, \"title\": {\"text\": \"US States ranked by number of class F and G wildfires (1992-2016)\"}}, {\"showLink\": false, \"linkText\": \"Export to plot.ly\", \"plotlyServerURL\": \"https://plot.ly\"}); \n",
       "}\n",
       "});</script><script type=\"text/javascript\">window.addEventListener(\"resize\", function(){if (document.getElementById(\"9bac3124-6ca3-4e29-8c64-8f02187c787f\")) {window._Plotly.Plots.resize(document.getElementById(\"9bac3124-6ca3-4e29-8c64-8f02187c787f\"));};})</script>"
      ]
     },
     "metadata": {},
     "output_type": "display_data"
    }
   ],
   "source": [
    "text = [f\"State: {state}<br>Number of Fires: {num_fires}\" for state, num_fires in big_fires_per_state[['STATE', 'num_fires']].values]\n",
    "\n",
    "states = [go.Scattergeo(\n",
    "    locationmode = 'USA-states',\n",
    "    lon = big_fires_per_state['Longitude'],\n",
    "    lat = big_fires_per_state['Latitude'],\n",
    "    hoverinfo = 'text',\n",
    "    text = text,\n",
    "    mode = 'markers',\n",
    "    marker = go.scattergeo.Marker(\n",
    "        size = 3,\n",
    "        color = 'rgb(255, 0, 0)',\n",
    "        line = go.scattergeo.marker.Line(\n",
    "            width = 3,\n",
    "            color = 'rgba(68, 68, 68, 0)'\n",
    "        )\n",
    "    ))]\n",
    "\n",
    "connections = []\n",
    "for i in range(len(big_fires_per_state)):\n",
    "    connections.append(\n",
    "        go.Scattergeo(\n",
    "            locationmode = 'USA-states',\n",
    "            lat = [big_fires_per_state['Latitude'][i], big_fires_per_state['End_Latitude'][i]],\n",
    "            lon = [big_fires_per_state['Longitude'][i], big_fires_per_state['End_Longitude'][i]],\n",
    "            mode = 'lines',\n",
    "            line = go.scattergeo.Line(\n",
    "                width = 2,\n",
    "                color = 'red',\n",
    "            ),\n",
    "            opacity = float(big_fires_per_state['num_fires'][i]) / float(big_fires_per_state['num_fires'].max()),\n",
    "        )\n",
    "    )\n",
    "\n",
    "layout = go.Layout(\n",
    "    title = go.layout.Title(\n",
    "        text = 'US States ranked by number of class F and G wildfires (1992-2016)'\n",
    "    ),\n",
    "    showlegend = False,\n",
    "    geo = go.layout.Geo(\n",
    "        scope = 'usa',\n",
    "        projection = go.layout.geo.Projection(type = 'albers usa'),\n",
    "        showland = True,\n",
    "        landcolor = 'rgb(243, 243, 243)',\n",
    "        countrycolor = 'rgb(204, 204, 204)',\n",
    "    ),\n",
    ")\n",
    "\n",
    "fig = go.Figure(data = connections + states, layout = layout)\n",
    "iplot(fig)"
   ]
  },
  {
   "cell_type": "markdown",
   "metadata": {},
   "source": [
    "# 10.) Heat map"
   ]
  },
  {
   "cell_type": "code",
   "execution_count": 17,
   "metadata": {
    "ExecuteTime": {
     "end_time": "2019-05-16T22:46:09.202890Z",
     "start_time": "2019-05-16T22:46:08.854614Z"
    }
   },
   "outputs": [
    {
     "data": {
      "image/png": "[encoded data removed]",
      "text/plain": [
       "<Figure size 792x576 with 2 Axes>"
      ]
     },
     "metadata": {
      "needs_background": "light"
     },
     "output_type": "display_data"
    }
   ],
   "source": [
    "fires_per_month_year = fires.groupby(['month', 'year']).size().reset_index().rename({0: 'num_fires'}, axis=1)\n",
    "\n",
    "fig, ax = plt.subplots(figsize=(11, 8))\n",
    "\n",
    "sns.heatmap(fires_per_month_year.pivot('month', 'year', 'num_fires'), center=0, ax=ax)\n",
    "ax.set_ylabel(\"Month\")\n",
    "ax.set_xlabel(\"Year\")\n",
    "ax.set_title(\"Number of fires in each month of each year\")\n",
    "plt.show()"
   ]
  }
 ],
 "metadata": {
  "kernelspec": {
   "display_name": "Python 3",
   "language": "python",
   "name": "python3"
  },
  "language_info": {
   "codemirror_mode": {
    "name": "ipython",
    "version": 3
   },
   "file_extension": ".py",
   "mimetype": "text/x-python",
   "name": "python",
   "nbconvert_exporter": "python",
   "pygments_lexer": "ipython3",
   "version": "3.7.2"
  }
 },
 "nbformat": 4,
 "nbformat_minor": 2
}
